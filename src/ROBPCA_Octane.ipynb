{
  "cells": [
    {
      "cell_type": "markdown",
      "metadata": {
        "id": "a1itxkmnOySt"
      },
      "source": [
        "# ROBPCA: A New Approach to Robust Principal Component Analysis\n",
        "===\n",
        "Group 15\n",
        "---\n",
        "> Honor Code: We shall be honest in our efforts and will make our parents proud.\n",
        "\n",
        "\n",
        "Shikha Bhat (2019A7PS0063G)\n",
        "\n",
        "Yash Trivedi (2019B4AA0834G)\n",
        "\n",
        "Viraj Sharma(2020A7PS1011G)"
      ]
    },
    {
      "cell_type": "markdown",
      "metadata": {
        "id": "ntgQU5keM32d"
      },
      "source": [
        "ROBPCA is a 'ROBust method for Principal Components Analysis'. It is resistant to outliers in the data. The robust loadings are computed using projection-pursuit techniques and the MCD method. \n",
        "Therefore ROBPCA can be applied to both low and high-dimensional data sets.\n",
        "In low dimensions, the MCD method is applied.\n",
        "The ROBPCA method is described in Hubert, M., Rousseeuw, P.J., Vanden Branden, K. (2005), ROBPCA: a new approach to robust principal components analysis, Technometrics, 47, 64-79."
      ]
    },
    {
      "cell_type": "markdown",
      "metadata": {
        "id": "W7HF8HdAM8En"
      },
      "source": [
        "## Motivation\n",
        "\n",
        "While solving any ML problem, the data that we use to analyze and feed to the model is of great importance. Principal Component Analysis is widely used for the analysis of high-dimensional data, and allows us to represent the dataset as linear combinations of the original variables in a lower dimension. \n",
        "\n",
        "PCA often allows for interpretation and better understanding of the different sources of variation. However, the classic approach to PCA is sensitive to outliers (very high or low observations), because it is dependent on the variance-covariance matrix. The first principal component of a set of p variables is the derived variable formed as a linear combination of the original variables that explains the **most** variance. \n",
        "\n",
        "Outliers increase the variance of the data. The principal components may then be distorted so as to fit the outlier, which leads to a bad interpretation of the results. Thus, the authors of this paper aim to introduce a new, robust method of PCA, which can address this problem. They call it ROBPCA."
      ]
    },
    {
      "cell_type": "markdown",
      "metadata": {
        "id": "dL52E-hbNAA5"
      },
      "source": [
        "## Problem Definition\n",
        "\n",
        "1. To develop a robust method through which we can accurately apply PCA to high dimensional data having outliers \n",
        "2. Using this robust PCA, get a diagnostic plot that can be used to detect and classify  outliers."
      ]
    },
    {
      "cell_type": "markdown",
      "metadata": {
        "id": "gMvhmgaINC6J"
      },
      "source": [
        "## Methodology\n"
      ]
    },
    {
      "cell_type": "markdown",
      "metadata": {
        "id": "U4sJpfmJVr2F"
      },
      "source": [
        "We assume that the original data are stored in an n × p data matrix X where n denotes the number of objects and p denotes the original number of variables. "
      ]
    },
    {
      "cell_type": "code",
      "execution_count": 47,
      "metadata": {
        "id": "QERYee7TN5UG"
      },
      "outputs": [],
      "source": [
        "import numpy as np\n",
        "import pandas as pd\n",
        "import seaborn as sns\n",
        "import matplotlib.pyplot as plt\n",
        "from scipy import stats"
      ]
    },
    {
      "cell_type": "markdown",
      "metadata": {
        "id": "R3MOtrJjV2Pg"
      },
      "source": [
        "### Import Dataset\n",
        "Our first example is the low-dimensional car dataset, which\n",
        "is available in S–PLUS as the data frame cu.dimensions. For n = 111 cars, p = 11 characteristics were measured, including the length, width, and height of the car."
      ]
    },
    {
      "cell_type": "code",
      "execution_count": 48,
      "metadata": {
        "id": "4hFDaTlzNf6u"
      },
      "outputs": [],
      "source": [
        "df = pd.read_excel(\"Octane.xlsx\")\n",
        "df.rename(columns = {'Unnamed: 0':'Name'}, inplace = True)"
      ]
    },
    {
      "cell_type": "code",
      "execution_count": 49,
      "metadata": {
        "colab": {
          "base_uri": "https://localhost:8080/",
          "height": 317
        },
        "id": "43iLZi3-OLQg",
        "outputId": "e495aab1-574d-4228-d1a2-72720914c8ea"
      },
      "outputs": [
        {
          "output_type": "execute_result",
          "data": {
            "text/plain": [
              "  Sample name  Octane number      1100      1102      1104      1106  \\\n",
              "0         M01      88.600006 -0.001835 -0.001496 -0.001009 -0.000360   \n",
              "1         M02      88.800003 -0.001627 -0.001261 -0.000748 -0.000065   \n",
              "2         M05      89.400002 -0.000465 -0.000330  0.000181  0.001121   \n",
              "3         L06      86.700005 -0.001443 -0.001094 -0.000596  0.000082   \n",
              "4         H11      91.199997 -0.001607 -0.001155 -0.000548  0.000244   \n",
              "\n",
              "       1108      1110      1112      1114  ...      1532      1534      1536  \\\n",
              "0  0.000466  0.001502  0.002798  0.004410  ...  0.040192  0.038423  0.036768   \n",
              "1  0.000818  0.001943  0.003354  0.005088  ...  0.041009  0.039185  0.037459   \n",
              "2  0.002465  0.004140  0.006075  0.008238  ...  0.044729  0.043308  0.041914   \n",
              "3  0.000972  0.002114  0.003545  0.005299  ...  0.045022  0.043128  0.041327   \n",
              "4  0.001259  0.002551  0.004177  0.006188  ...  0.038111  0.036470  0.034925   \n",
              "\n",
              "       1538      1540      1542      1544      1546      1548      1550  \n",
              "0  0.035235  0.033835  0.032575  0.031462  0.030508  0.029727  0.029127  \n",
              "1  0.035842  0.034354  0.033023  0.031876  0.030927  0.030179  0.029622  \n",
              "2  0.040548  0.039222  0.037938  0.036706  0.035545  0.034493  0.033604  \n",
              "3  0.039629  0.038052  0.036621  0.035361  0.034299  0.033446  0.032808  \n",
              "4  0.033475  0.032138  0.030943  0.029920  0.029091  0.028468  0.028044  \n",
              "\n",
              "[5 rows x 228 columns]"
            ],
            "text/html": [
              "\n",
              "  <div id=\"df-63f1c712-20d2-43eb-95fc-7b156dda6fb4\">\n",
              "    <div class=\"colab-df-container\">\n",
              "      <div>\n",
              "<style scoped>\n",
              "    .dataframe tbody tr th:only-of-type {\n",
              "        vertical-align: middle;\n",
              "    }\n",
              "\n",
              "    .dataframe tbody tr th {\n",
              "        vertical-align: top;\n",
              "    }\n",
              "\n",
              "    .dataframe thead th {\n",
              "        text-align: right;\n",
              "    }\n",
              "</style>\n",
              "<table border=\"1\" class=\"dataframe\">\n",
              "  <thead>\n",
              "    <tr style=\"text-align: right;\">\n",
              "      <th></th>\n",
              "      <th>Sample name</th>\n",
              "      <th>Octane number</th>\n",
              "      <th>1100</th>\n",
              "      <th>1102</th>\n",
              "      <th>1104</th>\n",
              "      <th>1106</th>\n",
              "      <th>1108</th>\n",
              "      <th>1110</th>\n",
              "      <th>1112</th>\n",
              "      <th>1114</th>\n",
              "      <th>...</th>\n",
              "      <th>1532</th>\n",
              "      <th>1534</th>\n",
              "      <th>1536</th>\n",
              "      <th>1538</th>\n",
              "      <th>1540</th>\n",
              "      <th>1542</th>\n",
              "      <th>1544</th>\n",
              "      <th>1546</th>\n",
              "      <th>1548</th>\n",
              "      <th>1550</th>\n",
              "    </tr>\n",
              "  </thead>\n",
              "  <tbody>\n",
              "    <tr>\n",
              "      <th>0</th>\n",
              "      <td>M01</td>\n",
              "      <td>88.600006</td>\n",
              "      <td>-0.001835</td>\n",
              "      <td>-0.001496</td>\n",
              "      <td>-0.001009</td>\n",
              "      <td>-0.000360</td>\n",
              "      <td>0.000466</td>\n",
              "      <td>0.001502</td>\n",
              "      <td>0.002798</td>\n",
              "      <td>0.004410</td>\n",
              "      <td>...</td>\n",
              "      <td>0.040192</td>\n",
              "      <td>0.038423</td>\n",
              "      <td>0.036768</td>\n",
              "      <td>0.035235</td>\n",
              "      <td>0.033835</td>\n",
              "      <td>0.032575</td>\n",
              "      <td>0.031462</td>\n",
              "      <td>0.030508</td>\n",
              "      <td>0.029727</td>\n",
              "      <td>0.029127</td>\n",
              "    </tr>\n",
              "    <tr>\n",
              "      <th>1</th>\n",
              "      <td>M02</td>\n",
              "      <td>88.800003</td>\n",
              "      <td>-0.001627</td>\n",
              "      <td>-0.001261</td>\n",
              "      <td>-0.000748</td>\n",
              "      <td>-0.000065</td>\n",
              "      <td>0.000818</td>\n",
              "      <td>0.001943</td>\n",
              "      <td>0.003354</td>\n",
              "      <td>0.005088</td>\n",
              "      <td>...</td>\n",
              "      <td>0.041009</td>\n",
              "      <td>0.039185</td>\n",
              "      <td>0.037459</td>\n",
              "      <td>0.035842</td>\n",
              "      <td>0.034354</td>\n",
              "      <td>0.033023</td>\n",
              "      <td>0.031876</td>\n",
              "      <td>0.030927</td>\n",
              "      <td>0.030179</td>\n",
              "      <td>0.029622</td>\n",
              "    </tr>\n",
              "    <tr>\n",
              "      <th>2</th>\n",
              "      <td>M05</td>\n",
              "      <td>89.400002</td>\n",
              "      <td>-0.000465</td>\n",
              "      <td>-0.000330</td>\n",
              "      <td>0.000181</td>\n",
              "      <td>0.001121</td>\n",
              "      <td>0.002465</td>\n",
              "      <td>0.004140</td>\n",
              "      <td>0.006075</td>\n",
              "      <td>0.008238</td>\n",
              "      <td>...</td>\n",
              "      <td>0.044729</td>\n",
              "      <td>0.043308</td>\n",
              "      <td>0.041914</td>\n",
              "      <td>0.040548</td>\n",
              "      <td>0.039222</td>\n",
              "      <td>0.037938</td>\n",
              "      <td>0.036706</td>\n",
              "      <td>0.035545</td>\n",
              "      <td>0.034493</td>\n",
              "      <td>0.033604</td>\n",
              "    </tr>\n",
              "    <tr>\n",
              "      <th>3</th>\n",
              "      <td>L06</td>\n",
              "      <td>86.700005</td>\n",
              "      <td>-0.001443</td>\n",
              "      <td>-0.001094</td>\n",
              "      <td>-0.000596</td>\n",
              "      <td>0.000082</td>\n",
              "      <td>0.000972</td>\n",
              "      <td>0.002114</td>\n",
              "      <td>0.003545</td>\n",
              "      <td>0.005299</td>\n",
              "      <td>...</td>\n",
              "      <td>0.045022</td>\n",
              "      <td>0.043128</td>\n",
              "      <td>0.041327</td>\n",
              "      <td>0.039629</td>\n",
              "      <td>0.038052</td>\n",
              "      <td>0.036621</td>\n",
              "      <td>0.035361</td>\n",
              "      <td>0.034299</td>\n",
              "      <td>0.033446</td>\n",
              "      <td>0.032808</td>\n",
              "    </tr>\n",
              "    <tr>\n",
              "      <th>4</th>\n",
              "      <td>H11</td>\n",
              "      <td>91.199997</td>\n",
              "      <td>-0.001607</td>\n",
              "      <td>-0.001155</td>\n",
              "      <td>-0.000548</td>\n",
              "      <td>0.000244</td>\n",
              "      <td>0.001259</td>\n",
              "      <td>0.002551</td>\n",
              "      <td>0.004177</td>\n",
              "      <td>0.006188</td>\n",
              "      <td>...</td>\n",
              "      <td>0.038111</td>\n",
              "      <td>0.036470</td>\n",
              "      <td>0.034925</td>\n",
              "      <td>0.033475</td>\n",
              "      <td>0.032138</td>\n",
              "      <td>0.030943</td>\n",
              "      <td>0.029920</td>\n",
              "      <td>0.029091</td>\n",
              "      <td>0.028468</td>\n",
              "      <td>0.028044</td>\n",
              "    </tr>\n",
              "  </tbody>\n",
              "</table>\n",
              "<p>5 rows × 228 columns</p>\n",
              "</div>\n",
              "      <button class=\"colab-df-convert\" onclick=\"convertToInteractive('df-63f1c712-20d2-43eb-95fc-7b156dda6fb4')\"\n",
              "              title=\"Convert this dataframe to an interactive table.\"\n",
              "              style=\"display:none;\">\n",
              "        \n",
              "  <svg xmlns=\"http://www.w3.org/2000/svg\" height=\"24px\"viewBox=\"0 0 24 24\"\n",
              "       width=\"24px\">\n",
              "    <path d=\"M0 0h24v24H0V0z\" fill=\"none\"/>\n",
              "    <path d=\"M18.56 5.44l.94 2.06.94-2.06 2.06-.94-2.06-.94-.94-2.06-.94 2.06-2.06.94zm-11 1L8.5 8.5l.94-2.06 2.06-.94-2.06-.94L8.5 2.5l-.94 2.06-2.06.94zm10 10l.94 2.06.94-2.06 2.06-.94-2.06-.94-.94-2.06-.94 2.06-2.06.94z\"/><path d=\"M17.41 7.96l-1.37-1.37c-.4-.4-.92-.59-1.43-.59-.52 0-1.04.2-1.43.59L10.3 9.45l-7.72 7.72c-.78.78-.78 2.05 0 2.83L4 21.41c.39.39.9.59 1.41.59.51 0 1.02-.2 1.41-.59l7.78-7.78 2.81-2.81c.8-.78.8-2.07 0-2.86zM5.41 20L4 18.59l7.72-7.72 1.47 1.35L5.41 20z\"/>\n",
              "  </svg>\n",
              "      </button>\n",
              "      \n",
              "  <style>\n",
              "    .colab-df-container {\n",
              "      display:flex;\n",
              "      flex-wrap:wrap;\n",
              "      gap: 12px;\n",
              "    }\n",
              "\n",
              "    .colab-df-convert {\n",
              "      background-color: #E8F0FE;\n",
              "      border: none;\n",
              "      border-radius: 50%;\n",
              "      cursor: pointer;\n",
              "      display: none;\n",
              "      fill: #1967D2;\n",
              "      height: 32px;\n",
              "      padding: 0 0 0 0;\n",
              "      width: 32px;\n",
              "    }\n",
              "\n",
              "    .colab-df-convert:hover {\n",
              "      background-color: #E2EBFA;\n",
              "      box-shadow: 0px 1px 2px rgba(60, 64, 67, 0.3), 0px 1px 3px 1px rgba(60, 64, 67, 0.15);\n",
              "      fill: #174EA6;\n",
              "    }\n",
              "\n",
              "    [theme=dark] .colab-df-convert {\n",
              "      background-color: #3B4455;\n",
              "      fill: #D2E3FC;\n",
              "    }\n",
              "\n",
              "    [theme=dark] .colab-df-convert:hover {\n",
              "      background-color: #434B5C;\n",
              "      box-shadow: 0px 1px 3px 1px rgba(0, 0, 0, 0.15);\n",
              "      filter: drop-shadow(0px 1px 2px rgba(0, 0, 0, 0.3));\n",
              "      fill: #FFFFFF;\n",
              "    }\n",
              "  </style>\n",
              "\n",
              "      <script>\n",
              "        const buttonEl =\n",
              "          document.querySelector('#df-63f1c712-20d2-43eb-95fc-7b156dda6fb4 button.colab-df-convert');\n",
              "        buttonEl.style.display =\n",
              "          google.colab.kernel.accessAllowed ? 'block' : 'none';\n",
              "\n",
              "        async function convertToInteractive(key) {\n",
              "          const element = document.querySelector('#df-63f1c712-20d2-43eb-95fc-7b156dda6fb4');\n",
              "          const dataTable =\n",
              "            await google.colab.kernel.invokeFunction('convertToInteractive',\n",
              "                                                     [key], {});\n",
              "          if (!dataTable) return;\n",
              "\n",
              "          const docLinkHtml = 'Like what you see? Visit the ' +\n",
              "            '<a target=\"_blank\" href=https://colab.research.google.com/notebooks/data_table.ipynb>data table notebook</a>'\n",
              "            + ' to learn more about interactive tables.';\n",
              "          element.innerHTML = '';\n",
              "          dataTable['output_type'] = 'display_data';\n",
              "          await google.colab.output.renderOutput(dataTable, element);\n",
              "          const docLink = document.createElement('div');\n",
              "          docLink.innerHTML = docLinkHtml;\n",
              "          element.appendChild(docLink);\n",
              "        }\n",
              "      </script>\n",
              "    </div>\n",
              "  </div>\n",
              "  "
            ]
          },
          "metadata": {},
          "execution_count": 49
        }
      ],
      "source": [
        "df.head()"
      ]
    },
    {
      "cell_type": "code",
      "execution_count": 50,
      "metadata": {
        "colab": {
          "base_uri": "https://localhost:8080/"
        },
        "id": "gE_sF1c8S4rG",
        "outputId": "b8ee5276-15cd-4040-97bc-fcaa8af7b316"
      },
      "outputs": [
        {
          "output_type": "stream",
          "name": "stdout",
          "text": [
            "226\n"
          ]
        }
      ],
      "source": [
        "X = df.drop(['Sample name',\t'Octane number'], axis=1)\n",
        "print(len(X.columns))"
      ]
    },
    {
      "cell_type": "code",
      "execution_count": 51,
      "metadata": {
        "colab": {
          "base_uri": "https://localhost:8080/"
        },
        "id": "392R6RxZ3Wgj",
        "outputId": "bdd0c456-79fe-4a3d-a7f1-3de5fb4c854e"
      },
      "outputs": [
        {
          "output_type": "stream",
          "name": "stdout",
          "text": [
            "39 226\n"
          ]
        }
      ],
      "source": [
        "n = X.shape[0]\n",
        "p = X.shape[1]\n",
        "print(n,p)"
      ]
    },
    {
      "cell_type": "markdown",
      "metadata": {
        "id": "he-g5AreXgyU"
      },
      "source": [
        "### Mean subtracted data\n",
        "For PCA, we must first subtract the mean of each column from the datapoint in that column. This way, we center the data around 0."
      ]
    },
    {
      "cell_type": "code",
      "execution_count": 52,
      "metadata": {
        "colab": {
          "base_uri": "https://localhost:8080/"
        },
        "id": "_Cku-1YGT8pD",
        "outputId": "c4f477cf-8b59-48db-9422-b6f97a0de6f6"
      },
      "outputs": [
        {
          "output_type": "stream",
          "name": "stdout",
          "text": [
            "(39, 226)\n"
          ]
        }
      ],
      "source": [
        "# converting to numpy array for better handling\n",
        "X_np = np.array(X)\n",
        "print(X_np.shape)"
      ]
    },
    {
      "cell_type": "code",
      "execution_count": 53,
      "metadata": {
        "id": "s2fQ0iVyXa0Y"
      },
      "outputs": [],
      "source": [
        "means = []\n",
        "for i in range(len(X.columns)):\n",
        "  means.append(X_np[:, i].mean())\n",
        "mu0 = np.array(means)\n",
        "mu0.resize((mu0.shape[0], 1)) #converting to p-variate column vector"
      ]
    },
    {
      "cell_type": "markdown",
      "metadata": {
        "id": "FhHw335bxXOl"
      },
      "source": [
        "## ROBPCA\n",
        "\n",
        "### The ROBPCA Method\n",
        "Previous efforts have been to replace the classical covariance matrix by robust covariance estimators but these cannot resist many outliers or are limited to small to moderate dimensions. Projection pursuit techniques have also been used in the past, which can handle higher dimensions. The ROBPCA method attempts to combine the advantages of both approaches - \n",
        "1. The projection pursuit technique is used for the initial dimension reduction of the data.\n",
        "2. Some ideas based on the MCD estimator (minimum covariance determinant) are then applied to this lower-dimensional data space."
      ]
    },
    {
      "cell_type": "markdown",
      "metadata": {
        "id": "NJzNRZ-HqRLJ"
      },
      "source": [
        "### Stage 1: Reducing to affine subspace using SVD\n",
        "As proposed by Hubert et al. (2002), we start by reducing the data space to the affine subspace spanned by the n observations. This is especially useful when p ≥ n, but even\n",
        "when p < n, the observations may span less than the whole p-dimensional space. A convenient way to do this is by a singular value decomposition of the mean-centered data matrix.\n"
      ]
    },
    {
      "cell_type": "markdown",
      "metadata": {
        "id": "kQcwnQ1CrQFm"
      },
      "source": [
        "![image.png](data:image/png;base64,iVBORw0KGgoAAAANSUhEUgAAAbEAAAAxCAYAAABUF5fdAAAYfGlDQ1BJQ0MgUHJvZmlsZQAAWIWVeQc8le3//3WffY59jr33Jnvvvfcm4VjHimOGEkkZJRKiVJJZqRQqEWkoZfSQJJGMSqGiMvK7jXqe7/P9v/6/1+96va77ep/P9bk+61r359wAcI34RkaGIRgBCI+IoTqYGvC7uXvwY6cAAXABIhADYr7k6Eh9OzsrAJff7X+WpUEAbbTPZTZk/Xf//7cQ/QOiyQBAXjD2848mh8P4LgCoU+RIagwAmA26UHxM5AbeD2NmKmwgjAs2cNAWrt7Aflu4ZZPHycEQxr0A4Gh9falBANCPwHT+OHIQLId+Fe4jRvhTIgBggT3H6JCDff0B4LKDeaTDw3dv4GQYi8P8kTCugLGa3z9kBv2HfL8/8n19g/7gLb82C86IEh0Z5rvn/xia/72Eh8X+1iEKV9pgqpnDhv9wDIdCd1tuYFoYz0b42dhuxBrGPyj+W3EHAEEIjjVz3uJHcJOjDeH4AVYYy/n7GlnCmBvGJhFhNlbbdL9Aiok5jOGYIRIoMeZOMGaH8eGAaGPHbZ6z1N0O27oQjYFUQ/1t+iNf6qbeDV2jsaHO+tvyvwQHmG/LR9InBju5wpgAY+E4iosNjOlhLBsd6mi5zaOVGGxo85uHGuuwYb8wjB0CIkwNtuQj4wKpJg7b/Fnh0b/9RZ4NppjbbONrMcFOZlvxQXaSfTfth31B9gZE6Dv/lhMQ7Wb12xf/ACPjLd+RMwERzo7bcn5Exhg4bI1FESLD7Lb5UYIBYaYbdEEYK0XHOW6PRbnEwItzSz4qMDLGzmnLTlRiiK+F3ZY9qGPAChgCI8APYuHqB3aDEEB5Nts0C//a6jEBvoAKgkAAkNmm/B7hutkTAT8dQSL4BKMAEP1nnMFmbwCIg+lrf6hbTxkQuNkbtzkiFEzBOBxYgjD4d+zmqIg/2lzAO5hC+S/tvnAlw/aGwXWj//9N/039m6IPU6y2KbG/NfIz/ObEGGOMMGYYE4wEihOlg9JEWcFPPbgqoNRQ6r/9+JsfPYXuQ79FD6DH0C93UdKo/7LSGozB8k22Y+H3z1igRGGZyigDlDYsHZaMYkVxAhmUEqxHH6ULa1aGqYbbdm9Ehf9fsv/Dg3/MxjYfXg6PwLPh9fDi/x5JL0mv/EfKRqz/GZ8tW/3+xNvwT8+/9Rv+I/r+cGv5b07kYWQD8iGyHdmFbEE2AX5kG7IZ2Y28s4H/rK53m6vrtzaHTXtCYTmU/9Lnu61zI5LRcnVy7+VWt/piAhJiNjae4e7IPVRKUHAMvz58OwTwm0eQZaX5FeQUFADYuGu2jq+vDpt3CMTa8zeNfBAA1XkA8Mt/08K/AnAF3vv81n/TRLzh7YcBoHqKHEuN26KhNh5o+JRggHcaB+AFQkAc9kcBqABNoAeMgQWwBU7AHXjDUQ6G1zkVxINkkAoyQDY4Bk6AEnAGnAfV4BK4BppAC2gHD8AT0AsGwCt49UyCj2AeLIEVCIKwEB1EgjggPkgEkoIUIDVIBzKGrCAHyB3ygYKgCCgWSoYOQNlQPlQCnYNqoKvQTagd6oL6oJfQOPQe+gItI5AIWgQzggchitiBUEPoIywRToidiCBEFCIRkY44iihGlCMuIhoR7YgniAHEGOIjYhEJkDRIVqQAUgaphjRE2iI9kIFIKnIfMgtZiCxHXkbeguf5OXIMOYv8icKgSCh+lAy8gs1QzigyKgq1D5WDKkFVoxpRnajnqHHUPOoXmg7NjZZCa6DN0W7oIHQ8OgNdiK5E30Dfh/fSJHoJg8GwYsQwqvBedMeEYJIwOZjTmHrMXUwfZgKziMViObBSWG2sLdYXG4PNwJ7EXsS2Yfuxk9gfOBocH04BZ4LzwEXg0nCFuFpcK64fN41bwTPiRfAaeFu8P34PPhdfgb+F78FP4lcITAQxgjbBiRBCSCUUEy4T7hNGCF9paGgEadRp7GkoNPtpimmu0DyiGaf5SUuklaQ1pPWijaU9SltFe5f2Je1XOjo6UTo9Og+6GLqjdDV09+hG6X7Qk+hl6c3p/elT6EvpG+n76T8z4BlEGPQZvBkSGQoZGhh6GGYZ8YyijIaMvoz7GEsZbzK+YFxkIjHJM9kyhTPlMNUydTHNELFEUaIx0Z+YTjxPvEecICFJQiRDEpl0gFRBuk+aZMYwizGbM4cwZzNfYn7GPM9CZFFicWFJYCllucMyxopkFWU1Zw1jzWW9xjrIuszGw6bPFsCWyXaZrZ/tOzsXux57AHsWez37APsyBz+HMUcoRx5HE8drThSnJKc9ZzxnGed9zlkuZi5NLjJXFtc1rmFuBLcktwN3Evd57m7uRR5eHlOeSJ6TPPd4ZnlZefV4Q3gLeFt53/OR+HT4KHwFfG18H/hZ+PX5w/iL+Tv55wW4BcwEYgXOCTwTWBEUE3QWTBOsF3wtRBBSEwoUKhDqEJoX5hO2Fk4WrhMeFsGLqIkEixSJPBT5Liom6ip6SLRJdEaMXcxcLFGsTmxEnE5cVzxKvFz8LwmMhJpEqMRpiV5JhKSyZLBkqWSPFEJKRYoidVqqTxotrS4dIV0u/UKGVkZfJk6mTmZcllXWSjZNtkn28w7hHR478nY83PFLTlkuTK5C7pU8Ud5CPk3+lvwXBUkFskKpwl+KdIomiimKzYoLSlJKAUplSkPKJGVr5UPKHcprKqoqVJXLKu9VhVV9VE+pvlBjVrNTy1F7pI5WN1BPUW9R/6mhohGjcU1jTlNGM1SzVnNGS0wrQKtCa0JbUNtX+5z2mA6/jo/OWZ0xXQFdX91y3bd6Qnr+epV60/oS+iH6F/U/G8gZUA1uGHw31DDca3jXCGlkapRl9MyYaOxsXGI8aiJoEmRSZzJvqmyaZHrXDG1maZZn9sKcx5xsXmM+b6Fqsdei05LW0tGyxPKtlaQV1eqWNcLawvq49YiNiE2ETZMtsDW3PW772k7MLsrutj3G3s6+1H7KQd4h2eGhI8lxl2Ot45KTgVOu0ytncedY5w4XBhcvlxqX765GrvmuY2473Pa6PXHndKe4N3tgPVw8Kj0WPY09T3hOeil7ZXgN7hTbmbCzy5vTO8z7zi6GXb67GnzQPq4+tT6rvra+5b6LfuZ+p/zmyYbkIvJHfz3/Av/3AdoB+QHTgdqB+YEzQdpBx4PeB+sGFwbPUgwpJZSFELOQMyHfQ21Dq0LXw1zD6sNx4T7hNyOIEaERnbt5dyfs7ouUisyIHIvSiDoRNU+1pFZGQ9E7o5tjmOGX+u5Y8diDseNxOnGlcT/iXeIbEpgSIhK690juydwznWiSeCEJlURO6kgWSE5NHt+rv/fcPmif376OFKGU9JTJ/ab7q1MJqaGpT9Pk0vLTvh1wPXArnSd9f/rEQdODdRn0GdSMF4c0D505jDpMOfwsUzHzZOavLP+sx9ly2YXZqznknMdH5I8UH1k/Gnj0Wa5KbtkxzLGIY4N5unnV+Uz5ifkTx62PNxbwF2QVfDux60RXoVLhmSJCUWzRWLFVcfNJ4ZPHTq6WBJcMlBqU1p/iPpV56vtp/9P9ZXpll8/wnMk+s3yWcnbonOm5xnLR8sLzmPNx56cqXCoeXlC7UFPJWZlduVYVUTVW7VDdWaNaU1PLXZtbh6iLrXt/0eti7yWjS82XZS6fq2etz74CrsRe+XDV5+rgNctrHQ1qDZevi1w/dYN0I6sRatzTON8U3DTW7N7cd9PiZsctzVs3bsvermoRaCm9w3Int5XQmt663pbYtng38u5se1D7RMeujlf33O791Wnf+ey+5f1HD0we3Huo/7Dtkfajli6NrpuP1R43PVF50tit3H3jqfLTG89UnjX2qPY096r33urT6mvt1+1vf270/MFf5n89GbAZ6Bt0Hhx64fVibMh/aOZl2MuF4bjhlVf7R9AjWa8ZXxeOco+Wv5F4Uz+mMnZn3Gi8+63j21cT5ImP76LfrU6mT9FNFU7zTdfMKMy0vDd53/vB88Pkx8iPK7MZn5g+nfos/vn6nN5c97zb/OQCdWH9S85Xjq9V35S+dSzaLY4uhS+tfM/6wfGj+qfaz4fLrsvTK/Gr2NXiNYm1W78sf42sh6+vR/pSfTdfBZBwRQQGAvClCgA6dwBIcN5G8NzKBbcLEn75QMCtCyQLfUSkwzdqDyoDbYJBYp5gi3EReCuCBA2WZpa2n66JvoqhkrGeqZnYQXrC3MsyxPqGbYb9I8cC5zLXGg+CF8tH4KcTIAoShViF2UXYRNnFuMV5JPgl+aUEpYVlRGXFdkjLyckrKqgoaijpKhurmKuaq5mom2iYaBpq6Wtr6WjoKunJ6osa8BgyGxGM1o2/mkyZvjTrNm+xqLY8bpViHWLjZmtsp2wv5sDlyOiEc0a6QK4IN5Q73oPRk8NLeKeMt8QuYR8+X04/FjLJnxhACmQN4goWpEiHqIaahLmEUyKSd+dHVkSdpRZH58XkxGbGZcUfTSjeU53YmvRqL9gnnbJr/8nUVwcE03cfbD+EOSyUqZBlkO2YE3gk8WhebvWxu3nD+YsFTCdkCi2KAosPnCwruVnaf+rd6cUz2LMc5yTLtc7bVvhdiKk8WFVYXV1zs/Zx3fDFD5d+1uOusF0Vv6bb4H496kZm4+mm+ua2m123em73tjy509F6ta30bkr7rg6Ne8R7U50379c+OPUw+1FCl99j8yey3fTds0/vPzvVE9lr0Efqm+i/9jz1L/sBkUHU4PsX3UP1L/OHY165jKi95ny9Ojr6pn3swnjm290Tzu+0JoXhVbY0/dfM9fdFH1I+hs2SP5E/R85lz99YmPuq9+3cEul78U+p5WerKb801tf/Mf8KyBlUPtoSw4J5jW3A5eCDCEY0krQMtKt00/RDDEOMb5jeET+RvjIvsayxrrCtsf/iWONc4vrKPcczxTvC189/X+CmYKVQtnCYiJWopBhe7IN4l0SNZJYURdpSRkaWTnZuR5/cdfkihWRFspK9soGKgqqAGlFtXf2zxohml1ajdrlOjm68no++hYGCIacRwui98TOTK6Z5ZtHmThYqlmyWK1ZvrO/Z1Nrm2SXZBzo4Ouo7yTsLuJBcsa7Lbh/dRzy6Pe941e8863181yGfZF+qH4Xs6+8R4BRoH2QTbEmxDDEL1QyTDReIYNlNE4mIXI36Qf0ZvRaLjiPGCyVo7HFKjE4qTG7ZO5VCs58vVSZN+4BNut/B+IwjhyoPt2UOZ33PYT6icNQ+N+LYkby6/EfH3xWsF3IWKRfbnQwtOVh65lTz6d6ymTO/zjGXS5zXrrC7QK6MrTpUXQyfc911c5eIlxXrHa9EXc29VtfQeX3kxpcmTDPHTclbGrctWtzuBLbGtKXcTW0/0HHwXkbnofuHH2Q9zHl0pOvI4yNPjnTnPM1+ltlzqDe9L7V/7/O4v6IGdg9GvogZSnp5cPj4q/KRhtcPRl+++TQO3hInBN/JT+pMmU/7zZx9/+mj8mzSp9bPv+Y1F+K+XP76bpF9yfJ7yo+Gn9Mr3KsOa1m/Orfn3xihj9yB/IxqRx/COGLFsQu4m/gMggMNN80o7Xm6cHp1BgRDO2M6kwWRgdhLOsZsy8LA8pQ1i82EHWJv5ojgFOIc4srm1uH+xFPKa8b7ja+M34z/s0CBoIbgiNBeYX7hVhFvkVXRYjElsW7xAPFVieOSUpJtUo5SU9KpMiIyQ7I5Owx2fJOrkvdUoFNoU4xUElDqV05TUVAZV81V01b7pF6qYa6xqHley17rl3adjrsuVveGHlmfqH/XINKQ37DXKM1YyXjapMTUFn7vuG0eZSFl8c6yzMrDmtX6uU2+rYMdyW7Q/qSDt6Ow4wenq86JLsauDK7DbpXu0R4GnrSeg15ndgZ7K3iv7Lrvk+fr5Sfht0Tu9D8e4BuoGIQKGgyupaSEOIVKh6HD3oTfiijeHR/pGqVB5Y1GRc/GDMS2x9XHlyXk7klNjE8KTfbfu3OfW4rTfodU+zT7Aw7pTgfdM3YeCjgcmhmdlZJ9OCf/SNnRmtzGY/fy+vJHj38+gSqUKPIqPnbyfsnKKdnTfmUnzjw+u1qucD6gouRCTxWqWqsmvra+7uMlycsh9bVX5q6pNOy/3t3I0RTW3HmL73ZKy9tWq7aWdvmOi51S968+NHg0/Dihm+9pb8+RPqfnogNg8OPQu+EPr8EbkfFdE7VT6JnEj+BTxTz5q+6S2k/n1eKN+d/6T3CjYFQAOHEIgI3/eRxqAMi5CIDYHgDY4NzTjg4AJ3WAEDAF0GIHgCy0/9wfEJx4EgAJ8ABJoAbM4PwyDM4pi0A96AITYA1ih5QhRygaOgE1Q6/hnE8a4YJIRdQjRpEMSANkPPIScgrO0rxQpahXcCbmg76A/oRRwaRinmF5sOHYNhwJR8G14znxsfh+giKhiLBKQ6Z5SqtOW03HTpdDj6BPov/OEMuwxJjIBDFlEVmJFSQ1Ui9zCAuW5QKrMesU22F2KfZejhhODs5WLn9uGu5rPB68SN5LfJ5wRtAnkCtoK8Qk9Fy4SMRTVEB0SuyieLSEhiQk2SWVJ+0Jr8552f4dLXKV8vkK+xQpSo7KGip8qpDqmFqLeoFGiKa2Fr3WiHaNToyurh5Or0+/weC6YZPRLeNWk3umXWY95oMWo5bTVgvWK7Y4O1Z7UQc1RysnsnOyS7Frq9uMB8lT3ytyZ7n3gA/BV98vidzs/z1QLSgpuD2EEOocVhG+uNsssixqLlorJjt2NF4p4diehSTX5Af7tFNaUy3TJtIzM7QPg8y+7CtHTuXm55kdRxbcL8wrDigxPCVdJnhWpFypwqYyqrq09sklUK961abB/UZwU/LNE7ev3elvW+rg7TR7EPPo7ONn3Ws9Mn07nx8duDtEGiaPXBqdHeeeUJvUm5Z/T//hxezRzzvm2hfMvnR+U1gsWVr+Yf/zwvLCqsZayq+7m+fH1vwT4fmXAKrABLiCELAPFIA60AlGwQ+IBMlBNlAEdAxqgF4iAEICzvLTEFcRb+E83gqZjmxDrqC0UQdQ3Wh2dCC6EYPHeGMasYzYMOwTnDQuF7eI98I/IMgSimiQNFE047TOtI/pDOla6bXo78BZ7CNGe8ZROE9dJxaQZElPmSPgzLOZ1ZeNhq2ZPZCDleMh5x4uaa5x7iIeW14cbwfffn4DAYzAU8FCIV9hWeFVkW7RMrEocWMJLokvko+lzkunyHjKau6QkGOXx8uvKswpTii9UH6sclv1olqJ+iENqqanlqG2pA6jzqLusF6rfr3BVcMGoybj2yZtpp1mj817LV5YvrGatl6wWbHD2bM6iDmqO1k7+7vsdS1xu+k+7LHmJbjTwjtm11mfHj+IrOIfEVATOBUsSgkJuRq6HG4aUbh7JkqLuje6LRYVZxVflDCVqJ50NHl6n3FKdSp92p4D0/B50nvYIvNhtllO91GH3LG8lOO8BXcLA4vpTzaX+p8mlT04u7dc5fyXC1erYmu06jAXBy5fuJJ8zeu6SiN908TN67cP3LFpY7873lHTSX2g9QjbNfik5un+Hq8+neciA0yDj4acX06+SnzNPHptzGl8daJ60n2aYabrw+FZy8+Mcy8Wzn4NWVT5jvjRs1y6GvRLcXv+kQADaDdPAHGgAq8ANxAODoIz4DYYhve/IGQBxUIV0CCCBmEE7/wOJA5pjzyD/IKyQFWh8Wgq+g3GCd7tNtgBHBn3E19IUCdM0pyk1aMdoUui56fvYohnlGScYDpD9CNJkL4zP2QpY01i82TX45DiZOei4UZwr/Is867yAwEs/AbKIywroi3qIBYkvl/ipOQNOO+el2XcoSDnKr9PoUKxR2lFRULVXS1fvV+TWctdu0JnTk9b/4jBGyNF42yTcTMt80KLL1Z21pdsae3C7B87SjplO39wtXCr9cB7UrweeovuOugz6WdIrgxABvoH3aOIhmSEzoRbRdRHskQlUMdijGIvx7Mn7NvzMckN3qcqKVWpHGlH01EHkzO+HPbIvJq1nuN0pOro8jHHvMvHCQWUEw+KpIpzTs6Vup66UyZ6Jg8++/3Pd1/QrKyqZqpJrJ266HippV70Su7VpQbv6w8aZZqONc/fsr99+Q6hNbCttZ3YEXCv8T7qgd3D0kcTjyWeULorn473cPba9x3sv/787QBhUO6FwxD15dHhmlf3RgZeT40uvFkdh95iJzDvMJNgcnnq0/TozNP3zR/KPx6ejfhk/VlqDjv3Zr55IfOLx1eJr1++tSymLRl9x3zv/JHyU/PnwvKFFY9VwmrjGvkX3a9r6+4b8x8dqKiweX1AtAYAoEfX17+KAoDNB2Atb319pXx9fe08nGyMAHA3bOs70+ZdwwjAWa4N1Hfly+d/f+PZ+gb1jzzm3y3YvIk2tcI30WYL30rgfwA5nOVVevjKAQAAAFZlWElmTU0AKgAAAAgAAYdpAAQAAAABAAAAGgAAAAAAA5KGAAcAAAASAAAARKACAAQAAAABAAABsaADAAQAAAABAAAAMQAAAABBU0NJSQAAAFNjcmVlbnNob3R5xNX9AAAB1WlUWHRYTUw6Y29tLmFkb2JlLnhtcAAAAAAAPHg6eG1wbWV0YSB4bWxuczp4PSJhZG9iZTpuczptZXRhLyIgeDp4bXB0az0iWE1QIENvcmUgNi4wLjAiPgogICA8cmRmOlJERiB4bWxuczpyZGY9Imh0dHA6Ly93d3cudzMub3JnLzE5OTkvMDIvMjItcmRmLXN5bnRheC1ucyMiPgogICAgICA8cmRmOkRlc2NyaXB0aW9uIHJkZjphYm91dD0iIgogICAgICAgICAgICB4bWxuczpleGlmPSJodHRwOi8vbnMuYWRvYmUuY29tL2V4aWYvMS4wLyI+CiAgICAgICAgIDxleGlmOlBpeGVsWURpbWVuc2lvbj40OTwvZXhpZjpQaXhlbFlEaW1lbnNpb24+CiAgICAgICAgIDxleGlmOlBpeGVsWERpbWVuc2lvbj40MzM8L2V4aWY6UGl4ZWxYRGltZW5zaW9uPgogICAgICAgICA8ZXhpZjpVc2VyQ29tbWVudD5TY3JlZW5zaG90PC9leGlmOlVzZXJDb21tZW50PgogICAgICA8L3JkZjpEZXNjcmlwdGlvbj4KICAgPC9yZGY6UkRGPgo8L3g6eG1wbWV0YT4KKwN5YwAAF8tJREFUeAHtnQWQ5LYShnVhZsa7MDPjhZmZL6lwKsx8YWbmDXOFmS6cXJg52TAzo15/ncjP47UHdsbe8W531ex4DLL0S2qWtp8XckaGgCFgCBgChkAJERimhHW2KhsChoAhYAgYAoqACTEbCIaAIWAIGAKlRcCEWGm7zipuCBgChoAhYELMxoAhYAgYAoZAaREwIVbarrOKGwKGgCFgCJgQszFgCBgChoAhUFoETIiVtuus4oaAIWAIGAImxGwMGAKGgCFgCJQWARNipe06q7ghYAgYAoaACTEbA4aAIWAIGAKlRcCEWGm7rnbFf/jhB/f111/XvtHuMAQMAUOgpAiYECtpx9Wq9m+//ebOOecct//++9e61a4bAoaAIVBaBEyIlbbrqlf8+++/d7feeqsbdthhq99oV/scAv/884976qmn3N13393n2m4N7n0IDNf7mtS7W/THH3+4t956y40++uhusskmc8MMk66HvPvuuw5rbPPNN+/dgFjrGkbgxx9/dMcff7z78ssv3bLLLtvw8/aAIdBOCOQuxPhPL1999ZX7+++/u7QbBjz22GO733//3f30008V10cZZRRl1P369as4X8YftO+NN95w008/vRtxxBG73QQ06Ouuu84deOCBbppppnGnnXaam2666VLLGzp0qJtvvvncDDPMkHo9z5O097vvvnNp/+Vn5JFHdmOOOaajLd98843766+/oqqMNNJIeq2IPmc8fvvttxXvDxWhj8YYY4y2tWKZK8n5EupOvZk7yXkHpig+XPv8888dSs4OO+wQHrPvXoAAfV5t7jAvRxhhhKr31AND4OVxLw/v5pOlVNdTbrfvkRfnSj///LPfbLPN/AQTTODHGWec6DPTTDP5Pffc07///vv+tttu8yuuuKKfcMIJ9fpcc83lOzo6vICea92KKHzIkCF+hRVW8DPOOKP/5JNPmnrl008/reXstttufs011/QbbbRRKkZirfkNN9zQ33fffU29r7sPv/zyy36DDTbw448/ftTf9P/SSy/tr7zySi1W3J1+8ODBXoSs3iMC3p911ln+zz//7O5rG3pOBKjfaaed/OSTTx7VkfE57bTT+jnnnFPPL7PMMv6CCy7wYrk0VHbeN994441+lllm8eOOO25U9wEDBvhNNtnEP/bYY/p65t0BBxygbeG+eeedV8eDKA/++uuv1/n26aef5l1VK78gBB5//HF/8803Z86fzz77zG+66aZN8SBROP29997r11prLf/CCy9UtIyxxHj78MMPK84X8QPpmTsxofbaay8vmjb/gFM/u+66qweUQK+++qqfffbZPedFiw+nS/ktlqe/5ZZb/GqrreZFW9H2TjLJJP7jjz/udnvEatBBctFFF3nRhDyDctttt/XnnXdelzJfeeUVZdA9yXzp27XXXjvqb/r2gw8+6FLX559/Xhnsgw8+2OVa3ifA8eCDD47qCLMXi9nD6MGQ/hOrzM8222zan7/++mveVaq7fOo388wza91F+/Ybb7yxl2zUiudpx6WXXuoXWGCBCHvO7b777l6s+EyGV1GI/WhrBJjjksDlTzjhBA+fTSPG+RlnnOHF6+WvvvpqHd9p91U7995776nSSRnwMhTqJDF3jjjiCN/Z2Zm8lOvv9IBKt+269AdxYWy33XZOJlN0g4DpRGvU35inoh060XzdQQcdpC6l6MYSHuBKw6wm3oD53grCdF9vvfWcWF9atlit7phjjnFzzDFHl+LFEnJiCbnRRhuty7WiTlBfsWqi14lV5sYaa6zodziYeOKJnTBjJxMjnCrsmz6aaqqpovfhzsQdh0tGPAVOGIMTC8a99NJLOn5JlGGstgNR71VWWcUNP/zw6sZ57bXX1D0br5tYte6jjz5yIuCcWJx6Cde+KEBOvANuuOFyjybEq2PHLUaA/r3mmmvUNbzVVlupqzjtFV988YXeRyxUvF6O7+7QOuuskxm+oDxCHPCjk046qctY7M776n2mECFGZaacckp35JFHagyM3+Jac+JOcgB85513OtHE3Y477pjK6Li/TASDEfeoW3nllVsmSIhniAtJmVbAAoY7zzzzhJ/R9xJLLKHxsOhEDx3AYAPBMNP89ZzjWo/40qVyaXUKdZ5iiimU2aOIiBWtMUiEQDsQAnf55Zd34gLV6ognw4lLqaJqZKiKBu2WWmqp6LxYvm7RRRetEN7RRTsoFQJijTuMAXETarwzq/JPPPGEJoGhmN1///3unXfeybo183z//v3dpJNOWpWfMYcXX3xxJ65Fd+KJJxam8BUmxGAWCy64oNtvv/3cqKOOqmA9+eST7vDDD1fmgAUG0+gNFBgj1kg4brZdd9xxhxNXqzvzzDM1KQItTFyLbpdddtFvcXVFr8Dq6SmhEFWiFxwghMWVqONV/CHuueee09T0dmkaWu/888+v1aH/Ozo6XHwcYJEz12A+gQjui5u3ZeMylGvfxSIgbmF3ySWXOIk1q4DKeru4GNXjhWeGTGWUsKuuukp5SNYzzZxnvK2++uqagMb4K4IKE2KhMWgNaJAweACGEWM5LLzwwuEW+04ggAuLhcunnHKKe/PNN1VAkR6NQBNft2OwtEpYJl7d53/iQQhuWTICn3322bbBhCxPSZpyWGXQo48+GrnoEbooPpIkFSmN3IOLW2J/HBqVGAGySyWRQ7OPyfjNIolDO3buYRzAdyUBSK03LPS8COUKLwCuS5YE5U2FO8WxEnbeeWeHiYuLBkEGY4BRm/WQ3t2kRIMRqd8hrsggJN4BA5t11lmbSt3nrZR32GGHNeTLpj64DeKafnoLynuWeC4fCMHAmG0ngjFJNqW6EhGyWGOLLLKIunSwHCX5p2JetSpG204Y9MW64BaGLzD3qsU2JUNZXcfjjTee5hoMHDjQSTKYu+yyyzT/IA/ld6KJJtKwEOMPz0DeY65wIQZoBMtXWmklBRPGICnDahqjVVbrkLwGK6Y5a5Ya0Row44uqKwOWYDzJHKz7or74wwnQkiwh6ftNW2K0hfIRTPUSg7MoDOqtUx73MUYDEZtsJ0LAbrHFFurqZHH7I488ookoDz/8sMZQQ0JHO9XZ6tI8Amx4gNJP/2cJIlyH5BsQqsE1zlxF6SEZ5IYbbnCyJCOX2ChzhFgteQ+MSTwGeVLhQgyG8Mwzz6gFBqCAjPBAo0ejxOwtmsgmHCxJJgyMeuncc8/VZJV67+/ufQgskl6IgZHBh/BkYJAxxzdxRIKuScKyffHFF9X9yOAldoLWljXgYXZHHXVUsphCfmfVqZCX13gJGBNHgmAE8YzLGo8WdnnJJZdURQbNF2UHJsX4YEzHk2sKq5C9KHcEsMIQYln9C5/F3UjCDzEwjiE2BOca7sgHHnhAeRihnVYS5aHgwlfjmxm08h3xsgoXYsRyZAGpIyWU7LrXX39dXVnEes4//3x33HHHRT58XI0IC3z9pJbjNmO3CkxjhF5aB2K+YiqTtUNWFgycTsT6O/TQQ1UIxAHgGGuGa40AHrLCkmXV+zu4fmTxoKZKU79DDjlE23b00UdHWZz4ltnnDkZPfIbAKRaYLDZUFyz+Z/BIEu5aAr/77ruv6+zsVFchSTS4c4uiuFWHMI5bNKEOnGfAh3uZZLK2Sd1jZHei1MhaLm07TDnNEkLAs5MJyzRkIaYjbf/000/XVN9mLRGEAuMQQoGgnxgnjEniufQHcV5ZH6MBbayieqlV5aDcyELySLHBXUScee655663KnZfyRAgjMDcyeJZeJauvfZazfhmp6A4wROJpd9+++06X9KWvsTvb/SYeU7dqGOrBWRaXQoVYjAD1hBMPfXUahnAmAcNGqQWABovoGOdrbrqqlpXGAQJH5dffrlaIg899JAKMn4j5dMYMkFOtlvCqiD9HKZCGaxxILUYYZgkNJpmhVKyTH6nMe1wH8kCaPWsRVp//fVVmC+00EJOdq1QXzfbcUGyAl6FPFhRRwYga4L4UG/axECB2TJwYGi4ERD2lAsT5zkE2tlnn+1kVX2qNUZa7BVXXKFB4FDHWt8oEcRc0oQoz3KeexAy9BcKRlIIsfVTGPA8Q9IBguLkk0/WthELZLnChRdeqMI7+TzP8A6YNsKPJRukENNm8EFZQHHiHZTdyISFQWDdoDSAO/WgzzhmbDGWeQeeheAy4RncKLyP+xCoWRO5WjnMB/qEfsdlxFjnOI1gFswb2s84wLPBeKd8o96JAB4YxhjjGz4THxv8ZrkFiuHWW28dGQUBCVLtZTMGdT3jrVlsscXCpZZ8M/5++eUX5UVBOW1JwRmFFJadyKRE+mNVIEiYeDRQtkdS3z31g/liEcUzZ2DiaOpYJGussYYyDTSLLGZEB2IqwziY2DAdAo1M6Hj6cQYeLT0N8w6LY/lm0AXimLbBnMAGqxFmyeAMwpm2YKnC6Bmk4ACTxLKkbAR2f3ElMpCx4tCsINyPYICVBg4wQRYU33TTTVpWqEP8m3cx8Br9xNsUL49jhBH1g8iSYsLwnkAcY4li4aCwBKLNjA3Oka5LvyGMaUcWIajAiQkk23JpNidCFMHNUg7cawgd7olTvP7UJ/6bcUjsAHciyRKsYwyZimi6JHkEAYKSMEgUMhbwo2RxTbbYqpnNmFYOi5OJE7Omhzpg8ZHEU42wWMEbIm7KcpZ2IPqS3fKDNdsOdeoNdaCvGXsoTElrDKzJTIX/xedVaDceHTwWwesRf55z9BfzKY3i8yPtOufIhmSesV6WOuZOMnFzJ2EsXpiJ7vPGnn7ClKJ3CnP3kq2o2+dIY70wa7/uuut6AUHvYX87sVB0KxO21WH/L7ZYySLeJVl2ur+XMHq9jT0ERSP2wuSzHmv5edol1oMX4altEwGke5uFF8lA88IUvQga3W9MhLSXQef32WefaFsY9o4Ui8qLpeF5nj0YxcL0Et/SZ4WhenG36j6TAwcO9OIn12cplz0J3377bX2dDDwvjFX3phQ3WKhCxTf3gBf4NfLhuSyiHLGovEwkLxaL7p0ocUe9XSwzL65jL8zWi3CLihCBrlsosaUSWytBjBkR0qn7RIYHxYWsbWYbq0DsySkp5V4mpLaNvQUlXhQuazsZX4w7PiIkdW84ESy6zZRY9B6Mt9lmG93mK95WETBelCMd1+E8bWIrsLvuukv7QVycOpajF6YcpJXDfqK0WSxKbbO4gb24mFOerjzF+0T469ZtooxUXvzvF30iFrfOD74lLqLHaVuCpRbw30n2zpOQgO7fyZ59bNElGn3Ffp2MX1HOdN7zLqPWIUA/wifpA1FiKwpmCzf2Iq22dyr7Z4oS7CWk44fI/q6BRNHzYiDo9lHhXPhmjLB9HHvcSuJQON3lGx4jHqEKftflphaeyN3fgFZAdgxuIXacwEUi+yg6YdaqbZ966qlqbcRNWrQANGg0W8xi3Iu4ZQhm8jzxNLTjNFMVSwLtjxgB1he/0YwpP6Sn560Z4F66+OKL1eWHizAQlijtYfdw6oZLEK2bf6lCABbLDCsCqy3UnSxENKXllltO7yNllrghFib3Ef9A42FHeywacEGbwmrjA2HFoZFhvSUtkVA37uGdrSTcfNtvv73Wm3oKc9YdMMiCxA3HeCB+Sf0D4Q7DasLqZod+NE3+AwALdCkvjUSIOJmI6kYOZYENlikWHFY7baM86gDh3sSVyxq7+NhjmQHjCisOK5B6Y8XGXYKUTUwSC1+Yd+TKwZOAxYn1CZ58MxazKKuc0Oe4KGkzmjOuwr333jurKD3PmGcrKrZvy9KAKS+4XplnuF5xXTfqemUROFiTMMCY65DUfuY1nhQSTSDexQ4OnRKTxTNg1DoEwJa5BS9g3AWLi6xUeCpjk7kF72A8MB4heAB9xhouwi4iS3S9Kf1P2AVPEPOSsRsnYuw8x7zAVU8MGte9bEQev03fR9mMj6L4bWu5VkVz/v0BuDCLLMINlkUwfJgNkw6GjGuFzsDtxuSDkQMmjBlhQKII7hkYISDCJEQrVnfd4MGDo2SJrPe16jwB9VpBdQQdkx+Tn4EEo8Y9iLsKRkvckLZwHiLJAaFO+4NbDcEFPjwTF1iB4VJuIBg9zzJYiyQmG64LllTA4OkrGCyTDLdpsj60F1xEy1TBg0DDnUjdUYgQMEwSJhB40G6ENrEr9ucMk5lnwJHlB0E4w6xxS0MINgRWdwjFCNcoigUCORDMhLqH/qEu/A6EqxFXLy50BFNWOSgz4Ea9aTfjGgWuFiH0+D9hMBqeyyKEF/1A3VCaGHei2asihEJF/4Anu8GE2GyyLOZWUExZQE2/wNyYm4GoA4IXRYI6GbUWAXgMsdl77rnHbbnlllo4MXI+WRTmI3MyjVDcCG3AU+KEQKpHKDEvUMhRZorq82I5WhyVOo6xOrDA8PFDTBCyGEmFR6tGyyBmQRJH0Hi5BvNCm+0Q7ZD7EaLJDJ06Xp/rLcQGaVtYKEzbsDpY50NyBoSgJhYCE0NLgikGBsl1BACMIwgwznFMuTBxYm0Qwoy4GdfiTFcvFvQHxkifkeovLgmtR1KA0Z9YONwX+hxmi/WNAgNTh9myLIOMRfoZQtDhh2dChzJhoBzHmTnH8d/dbTp9xbuxfOLlJctP/iY2x6bN9DFUrRyuJ8vmXC1COAZBnnUvjAblB+HDeOI9zDWYIW1CYQJv4pVZhBKBwkEZJNvQL8QBURriRL8g8NolRhevW9mPETRYYyj7jK1WEHMGZSgowo2UiYJIHBhPE3MxPn4bKafRe3O3xBqtUPx+Mun4BELzlX8BELk/YGoEvUnZh9FDdCaaCNYbkwsXW1FghnrW801WH59A7FCPVRbPQkNjRgDBAGDs9RKMhbVCMJog7BGGHLebMI+3if6U/zGnn3AeNyJ9iVYXJhaCAGEcMhVxX6GsxAnLYIBssQOGCEfKxrKNKwHx+xs5RsmA6SeJ7Efei4UFIaT4HYjEEFxwod5Z5SCIqDOuH/of5hAUm1BWd7+743pNexdWGGXh8WB+4S5EiCU9K1iQuLNsq6s0FJs/B39jSQ7hFyxqliH1BL9DYcagQAEiCarIOrS1JZbsYhgRkyFo21zHRUXHwbAAEq0ELb6/+HRhdEWCmaxvI79hdkmBC/Nmf8Rjjz22IeaLr5s4DwIfRggzRWtmPVMtLb2ROhdxL31OPwYBBlPHXQxjrGZV8hxxNZgoggzLFGs9TyFO/1E+WMPg8QrEXTBYlVjDLOqvRqRA00/UGwunU2JKMIdWUHC9Mj7CWAiuV6x6cINwI/JuCCueNZxkvEFYVkMkBomwxeqnXSyBAO+QIak3yh/iicRZjPJDAMWXrfzoM+ZHTxBKF/yKcRXmalH1aGtLrB4QiB1hYTCxCDzipiO1HIGW9OvWU1473QODSFvXVquOaPok0+Bmhbng+kLIs3ao7IRSgjXD/y6qpaCgESJISH/nXoQD/v68iPFGnI61fggA3HbEnAIhJHh/3P0brsW/sboQCCRzoKAhEIkRtoK643olFhkw5P+Q4YocOnSoKpOkYxPrw0uCK7JW21rRBiujKwJ4ooI3quvV/M8w9nuK3/YTyd0zorvFuMI0CIgTrEYTIEAdNM0Wv6o0xaFh4+ZhcBFcj1uwpWlEkxVleAe3bDXLrcnXVDzOGMS1RvJKM+5LhAVWDmOZgHxehBa9xx57aFyRHXKwxtjdhbojhMGQ+Cwuav6VEklJ/GsPhDWWJxaoCa+8esfKrYVA6S2x0EAmEVaZ0f8RwEeOO6cvExYYTLZIwjUcUv2beS8ZlHzypuB6xW2NwOeduF4RVBBeDoQp1iFWIdlnWPtYiUVjmzcWVn75EOg1Qqx80FuNDYH2QaCa6xXPBhmlWINk0LJlEXEyskZJuOmLFn779JzVpNe4E60rDQFDoDkE6nG94uJEeHEv7npcnUUH8ptrpT3d2xAwIdbbetTaYwgYAoZAH0KgVCn2fahfrKmGgCFgCBgCdSBgQqwOkOwWQ8AQMAQMgfZEwIRYe/aL1coQMAQMAUOgDgRMiNUBkt1iCBgChoAh0J4ImBBrz36xWhkChoAhYAjUgYAJsTpAslsMAUPAEDAE2hMBE2Lt2S9WK0PAEDAEDIE6EDAhVgdIdoshYAgYAoZAeyJgQqw9+8VqZQgYAoaAIVAHAv8DHTcXMfbbxL8AAAAASUVORK5CYII=)"
      ]
    },
    {
      "cell_type": "code",
      "execution_count": 54,
      "metadata": {
        "id": "pjp9fwCuq_I7"
      },
      "outputs": [],
      "source": [
        "U, d, Vh = np.linalg.svd(X_np - np.ones((n,1))@mu0.T, full_matrices=False)\n",
        "D = np.diag(d)"
      ]
    },
    {
      "cell_type": "code",
      "execution_count": 55,
      "metadata": {
        "colab": {
          "base_uri": "https://localhost:8080/"
        },
        "id": "z8R7CS-d7LWD",
        "outputId": "8398acd2-01cd-41cc-ca3c-4f1c53de7bba"
      },
      "outputs": [
        {
          "output_type": "execute_result",
          "data": {
            "text/plain": [
              "((39, 39), (39, 39), (39, 226))"
            ]
          },
          "metadata": {},
          "execution_count": 55
        }
      ],
      "source": [
        "U.shape, D.shape, Vh.shape"
      ]
    },
    {
      "cell_type": "markdown",
      "metadata": {
        "id": "omtVa4Xuq_i8"
      },
      "source": [
        "Without losing any information, we now work in the subspace spanned by the r0 columns of V. That is, Z = UD (n x r0) becomes our new data matrix."
      ]
    },
    {
      "cell_type": "code",
      "execution_count": 56,
      "metadata": {
        "colab": {
          "base_uri": "https://localhost:8080/"
        },
        "id": "kkg3dIJZtKu1",
        "outputId": "9f9d21ec-0243-47d4-b098-8d66cccfbc28"
      },
      "outputs": [
        {
          "output_type": "stream",
          "name": "stdout",
          "text": [
            "(39, 39)\n"
          ]
        }
      ],
      "source": [
        "Z = U@D\n",
        "r0 = Z.shape[1]\n",
        "print(Z.shape)"
      ]
    },
    {
      "cell_type": "markdown",
      "metadata": {
        "id": "X9cIWMI7ukSe"
      },
      "source": [
        "Note that this singular value decomposition is just an affine transformation of the data. We do not use it to retain only the first eigenvectors of the covariance matrix of Xn,p; this would imply that we were performing CPCA, which is of course not robust. Here we merely represent the data in its own dimensionality."
      ]
    },
    {
      "cell_type": "markdown",
      "metadata": {
        "id": "T--e8ajQu2xp"
      },
      "source": [
        "### Stage 2: Preliminary subspace without outliers\n",
        "In this stage we try to find the h < n “least outlying” data points. We then use their covariance matrix to obtain a preliminary subspace of dimension k0. The value of h can be chosen by the user, but n − h should exceed the number of outliers in the dataset."
      ]
    },
    {
      "cell_type": "markdown",
      "metadata": {
        "id": "7hz0ACpQ2Go0"
      },
      "source": [
        "\n",
        "Because we do not know the number of outliers or k0 at this moment, we take h = max{[αn], [(n + kmax + 1)/2]}, where kmax represents the maximal number of components that will be computed and is set to 10 by default.\n",
        "\n",
        "The parameter α can be chosen as any real value between .5 and 1. The higher the α, the more efficient the estimates will be for uncontaminated data. But setting a lower value for α will increase the robustness of the algorithm for contaminated samples. Our default, which is also used in the simulations, is α = .75."
      ]
    },
    {
      "cell_type": "code",
      "execution_count": 57,
      "metadata": {
        "colab": {
          "base_uri": "https://localhost:8080/"
        },
        "id": "YPdCO3cV17TN",
        "outputId": "b53247e4-e9ea-4e3c-c249-19db65f76dd7"
      },
      "outputs": [
        {
          "output_type": "stream",
          "name": "stdout",
          "text": [
            "29\n"
          ]
        }
      ],
      "source": [
        "# default values\n",
        "alpha = 0.75\n",
        "kmax = 7\n",
        "h = max(int(alpha * n), int((n + kmax + 1)/2))\n",
        "print(h)"
      ]
    },
    {
      "cell_type": "markdown",
      "metadata": {
        "id": "heReIkbd3Mz7"
      },
      "source": [
        "We compute the degree of outlyingness for all data points and consider the h observations with smallest outlyingness. Their indices are stored in the set H0."
      ]
    },
    {
      "cell_type": "code",
      "execution_count": 58,
      "metadata": {
        "colab": {
          "base_uri": "https://localhost:8080/"
        },
        "id": "BT_il8YWzOMM",
        "outputId": "9e265d01-fc95-4f27-8bcf-0352ffbfefe4"
      },
      "outputs": [
        {
          "output_type": "stream",
          "name": "stdout",
          "text": [
            "[25, 33, 22, 5, 13, 14, 11, 4, 29, 6, 30, 9, 12, 21, 28, 10, 32, 0, 23, 19, 7, 1, 31, 20, 15, 17, 18, 8, 26]\n"
          ]
        },
        {
          "output_type": "stream",
          "name": "stderr",
          "text": [
            "/usr/local/lib/python3.8/dist-packages/sklearn/neighbors/_lof.py:284: UserWarning: n_neighbors (250) is greater than the total number of samples (39). n_neighbors will be set to (n_samples - 1) for estimation.\n",
            "  warnings.warn(\n"
          ]
        }
      ],
      "source": [
        "from sklearn.neighbors import LocalOutlierFactor\n",
        "from heapq import heappush, heappop\n",
        "\n",
        "# calculating the outlyingness score\n",
        "clf = LocalOutlierFactor(n_neighbors=250)\n",
        "clf.fit(Z)\n",
        "opp_outlyingness = clf.negative_outlier_factor_\n",
        "\n",
        "# getting the h least scores and storing their indices in H0\n",
        "scores_heap = []\n",
        "for i in range(n):\n",
        "  heappush(scores_heap, (-opp_outlyingness[i], i))\n",
        "\n",
        "H0 = []\n",
        "for i in range(h):\n",
        "  temp = heappop(scores_heap)\n",
        "  H0.append(temp[1])\n",
        "  # print(temp[0])\n",
        "\n",
        "print(H0)"
      ]
    },
    {
      "cell_type": "code",
      "execution_count": 59,
      "metadata": {
        "colab": {
          "base_uri": "https://localhost:8080/"
        },
        "id": "F_yN7pi_3G9W",
        "outputId": "53bb7da7-c72f-4fd3-c920-e17e62531f88"
      },
      "outputs": [
        {
          "output_type": "execute_result",
          "data": {
            "text/plain": [
              "(29, 39)"
            ]
          },
          "metadata": {},
          "execution_count": 59
        }
      ],
      "source": [
        "# storing the observations with least outlyingness\n",
        "reduced_data = [0 for i in range(h)]\n",
        "for i in range(h):\n",
        "  index = H0[i]\n",
        "  reduced_data[i] = Z[index]\n",
        "reduced_data = np.array(reduced_data)\n",
        "reduced_data.shape"
      ]
    },
    {
      "cell_type": "markdown",
      "metadata": {
        "id": "oZyHaohU5xWm"
      },
      "source": [
        " We now consider μ1 and S0, the mean and covariance matrix of the h observations in H0. We follow the convention that the eigenvalues of any scatter matrix are sorted in descending order and the eigenvectors are indexed accordingly. This means that the eigenvector v1 corresponds to the largest eigenvalue, v2 corresponds to the second\n",
        "largest eigenvalue, and so on. The spectral decomposition\n",
        "of S0 is denoted by"
      ]
    },
    {
      "cell_type": "markdown",
      "metadata": {
        "id": "bc3bM5d65_xr"
      },
      "source": [
        "![image.png](data:image/png;base64,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)"
      ]
    },
    {
      "cell_type": "code",
      "execution_count": 60,
      "metadata": {
        "id": "U3Mcmcyc64mM"
      },
      "outputs": [],
      "source": [
        "S0 = np.cov(reduced_data.T)\n",
        "\n",
        "means = []\n",
        "for i in range(reduced_data.shape[1]):\n",
        "  means.append(reduced_data[:, i].mean())\n",
        "mu1 = np.array(means)\n",
        "mu1.resize((mu1.shape[0], 1)) #converting to p-variate column vector"
      ]
    },
    {
      "cell_type": "code",
      "execution_count": 61,
      "metadata": {
        "colab": {
          "base_uri": "https://localhost:8080/"
        },
        "id": "QhhbAKQZ7_FK",
        "outputId": "a6945ac4-54ad-424f-9a16-ab1e157e66bb"
      },
      "outputs": [
        {
          "output_type": "execute_result",
          "data": {
            "text/plain": [
              "((39, 39), (39, 1))"
            ]
          },
          "metadata": {},
          "execution_count": 61
        }
      ],
      "source": [
        "S0.shape, mu1.shape"
      ]
    },
    {
      "cell_type": "code",
      "execution_count": 62,
      "metadata": {
        "colab": {
          "base_uri": "https://localhost:8080/"
        },
        "id": "5_kx86AI6AmU",
        "outputId": "43980410-86cf-4130-edb5-cc75ac5df88c"
      },
      "outputs": [
        {
          "output_type": "execute_result",
          "data": {
            "text/plain": [
              "array([-1.90013167e-17, -5.60915275e-18, -1.16895764e-18, -3.66122726e-19,\n",
              "       -1.00767117e-19,  2.44225111e-55,  1.54011908e-19,  6.37870674e-19,\n",
              "        1.99433144e-18,  3.28457800e-18,  3.17723522e-17,  2.15444133e-09,\n",
              "        3.19380320e-09,  6.26643966e-09,  6.96776634e-09,  9.14600851e-09,\n",
              "        1.41162218e-08,  2.21544145e-08,  2.58569937e-08,  3.62533929e-08,\n",
              "        4.03156603e-08,  5.43160548e-08,  6.56960396e-08,  9.57673849e-08,\n",
              "        1.55557887e-07,  2.51556431e-07,  5.63540123e-07,  8.89712447e-07,\n",
              "        2.08701451e-06,  2.70162325e-06,  3.40110996e-06,  7.10649262e-06,\n",
              "        1.60044312e-05,  3.77793506e-05,  5.29568991e-05,  1.15396572e-04,\n",
              "        1.76139493e-03,  9.21607028e-03,  6.77549419e-02])"
            ]
          },
          "metadata": {},
          "execution_count": 62
        }
      ],
      "source": [
        "eigenvalues, V = np.linalg.eigh(S0, UPLO='U')\n",
        "eigenvalues # the eigenvalues are in ascending order"
      ]
    },
    {
      "cell_type": "code",
      "source": [
        "l0 = np.flip(eigenvalues)\n",
        "L0 = np.diag(l0)\n",
        "P0 = np.flip(V, axis=1)"
      ],
      "metadata": {
        "id": "ZtvGCE7iux-8"
      },
      "execution_count": 63,
      "outputs": []
    },
    {
      "cell_type": "code",
      "execution_count": 64,
      "metadata": {
        "colab": {
          "base_uri": "https://localhost:8080/"
        },
        "id": "kw5v4ko3Ah-O",
        "outputId": "afd8463d-797b-46c1-8046-ed932398f626"
      },
      "outputs": [
        {
          "output_type": "execute_result",
          "data": {
            "text/plain": [
              "((39, 39), (39, 39))"
            ]
          },
          "metadata": {},
          "execution_count": 64
        }
      ],
      "source": [
        "P0.shape, L0.shape"
      ]
    },
    {
      "cell_type": "markdown",
      "metadata": {
        "id": "iJ3dH50o6EkP"
      },
      "source": [
        "The covariance matrix S0 is used to decide how many principal components k0 ≤ r will be retained in the further analysis. "
      ]
    },
    {
      "cell_type": "code",
      "execution_count": 65,
      "metadata": {
        "colab": {
          "base_uri": "https://localhost:8080/"
        },
        "id": "EinUwvyw-AWV",
        "outputId": "ad80087a-8972-487d-e696-f5eef9a0f7e4"
      },
      "outputs": [
        {
          "output_type": "stream",
          "name": "stdout",
          "text": [
            "2\n"
          ]
        }
      ],
      "source": [
        "# selection criterion for k0\n",
        "sum_ev = sum(l0)\n",
        "sum_k = 0\n",
        "k0 = 0\n",
        "for ev in l0:\n",
        "  sum_k += ev\n",
        "  k0 += 1\n",
        "  if sum_k >= 0.9*sum_ev:\n",
        "    break\n",
        "print(k0)"
      ]
    },
    {
      "cell_type": "markdown",
      "metadata": {
        "id": "x-J_H16J-dlG"
      },
      "source": [
        "Finally, we project the data points on the subspace spanned by the first k0 eigenvectors of S0. To implement this step, we set"
      ]
    },
    {
      "cell_type": "markdown",
      "metadata": {
        "id": "EnE78Yhs-kCr"
      },
      "source": [
        "![image.png](data:image/png;base64,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)"
      ]
    },
    {
      "cell_type": "code",
      "execution_count": 66,
      "metadata": {
        "id": "r95DWh59_I5A"
      },
      "outputs": [],
      "source": [
        "P_k0 = P0[:, :k0] # getting the first k0 vectors of P0\n",
        "X_nk = (Z - np.ones((n,1))@mu1.T)@P_k0 # new data"
      ]
    },
    {
      "cell_type": "code",
      "execution_count": 67,
      "metadata": {
        "colab": {
          "base_uri": "https://localhost:8080/"
        },
        "id": "qyT0LHGlATM4",
        "outputId": "83b9b6f5-5a80-40ea-d31a-2a87dc8060cb"
      },
      "outputs": [
        {
          "output_type": "execute_result",
          "data": {
            "text/plain": [
              "((39, 2), (39, 2))"
            ]
          },
          "metadata": {},
          "execution_count": 67
        }
      ],
      "source": [
        "P_k0.shape, X_nk.shape"
      ]
    },
    {
      "cell_type": "code",
      "source": [
        "import matplotlib.pyplot as plt\n",
        "from matplotlib.colors import ListedColormap\n",
        "\n",
        "# Plot the dataset\n",
        "plt.figure(figsize=(8,8))\n",
        "pca_plot = plt.scatter(X_nk[:,0], X_nk[:,1])\n",
        "plt.xticks(fontsize=18)\n",
        "plt.yticks(fontsize=18)\n",
        "plt.xlabel('$f1$',fontsize=18)\n",
        "plt.ylabel('$f2$',fontsize=18)\n",
        "plt.suptitle('Dataset after ROBPCA',fontsize=20)\n",
        "plt.title('Plotting the octane dataset after ROBPCA transform',fontsize=12)\n",
        "plt.show( )"
      ],
      "metadata": {
        "colab": {
          "base_uri": "https://localhost:8080/",
          "height": 570
        },
        "id": "x_HOKvspDsWb",
        "outputId": "13ea0e39-195c-4283-c7eb-7ee47d6b3a16"
      },
      "execution_count": 68,
      "outputs": [
        {
          "output_type": "display_data",
          "data": {
            "text/plain": [
              "<Figure size 576x576 with 1 Axes>"
            ],
            "image/png": "[encoded data removed]"
          },
          "metadata": {
            "needs_background": "light"
          }
        }
      ]
    },
    {
      "cell_type": "markdown",
      "metadata": {
        "id": "2Ox47YCopfVl"
      },
      "source": [
        "### Stage 3: Using MCD Estimator\n",
        "In the third stage of the algorithm, we robustly estimate the scatter matrix of the data points in X (n x k0) using the MCD estimator. Recall that for this, we need to find h data points whose covariance matrix has minimal determinant. Because in general we cannot consider all h-subsets, we must rely on approximate algorithms."
      ]
    },
    {
      "cell_type": "code",
      "execution_count": 69,
      "metadata": {
        "id": "UubFgvn1V74X"
      },
      "outputs": [],
      "source": [
        "from sklearn.covariance import MinCovDet\n",
        "\n",
        "mcd = MinCovDet(random_state=42).fit(X_nk)\n",
        "S4 = np.array(mcd.covariance_)\n",
        "mu5 = np.array(mcd.location_)\n",
        "mu5.resize((mu5.shape[0], 1)) #converting to p-variate column vector"
      ]
    },
    {
      "cell_type": "code",
      "execution_count": 70,
      "metadata": {
        "colab": {
          "base_uri": "https://localhost:8080/"
        },
        "id": "4ZO5oO2Z8RZq",
        "outputId": "221daca6-8737-4d9f-86fc-ed9854b853d8"
      },
      "outputs": [
        {
          "output_type": "execute_result",
          "data": {
            "text/plain": [
              "((2, 2), (2, 1))"
            ]
          },
          "metadata": {},
          "execution_count": 70
        }
      ],
      "source": [
        "S4.shape, mu5.shape"
      ]
    },
    {
      "cell_type": "markdown",
      "metadata": {
        "id": "yaQvzxshbYsY"
      },
      "source": [
        "The spectral decomposition of S4 can be written as\n",
        "S4 = P2@L2@P2h, where the columns of P2 contain the eigenvectors of S4 and L2 is the diagonal matrix with the corresponding eigenvalues."
      ]
    },
    {
      "cell_type": "code",
      "source": [
        "eigenvalues, V = np.linalg.eigh(S4, UPLO='U')\n",
        "eigenvalues # the eigenvalues are in ascending order"
      ],
      "metadata": {
        "colab": {
          "base_uri": "https://localhost:8080/"
        },
        "id": "SyW95jnyv_7T",
        "outputId": "a305d817-ebb0-4dcb-fec1-c349bccbf8dc"
      },
      "execution_count": 71,
      "outputs": [
        {
          "output_type": "execute_result",
          "data": {
            "text/plain": [
              "array([0.00020404, 0.00668975])"
            ]
          },
          "metadata": {},
          "execution_count": 71
        }
      ]
    },
    {
      "cell_type": "code",
      "source": [
        "l2 = np.flip(eigenvalues)\n",
        "L2 = np.diag(l2)\n",
        "P2 = np.flip(V, axis=1)"
      ],
      "metadata": {
        "id": "OgAPXWOMwCbG"
      },
      "execution_count": 72,
      "outputs": []
    },
    {
      "cell_type": "code",
      "execution_count": 73,
      "metadata": {
        "colab": {
          "base_uri": "https://localhost:8080/"
        },
        "id": "HTMqk5TM8d4u",
        "outputId": "fd709241-bb0d-4690-bcbd-83b8375b5910"
      },
      "outputs": [
        {
          "output_type": "execute_result",
          "data": {
            "text/plain": [
              "((2, 2), (2, 2))"
            ]
          },
          "metadata": {},
          "execution_count": 73
        }
      ],
      "source": [
        "P2.shape, L2.shape"
      ]
    },
    {
      "cell_type": "markdown",
      "source": [
        "![image.png](data:image/png;base64,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)"
      ],
      "metadata": {
        "id": "IzM06Ku2xGTx"
      }
    },
    {
      "cell_type": "code",
      "execution_count": 74,
      "metadata": {
        "id": "XGShu7Djb-3W"
      },
      "outputs": [],
      "source": [
        "T = (X_nk - np.ones((n,1))@mu5.T)@P2 #scores"
      ]
    },
    {
      "cell_type": "markdown",
      "metadata": {
        "id": "31FoEcscNI48"
      },
      "source": [
        "### Diagnostic Plots (Outlier Maps)\n",
        "\n",
        "Diagnostic plots help in distinguishing between regular observations and three types of outliers - orthogonal outliers, good leverage points and bad levarage points by plotting the orthogonal distance of the outliers from the PCA subspace vs the robust score distance of the observations."
      ]
    },
    {
      "cell_type": "markdown",
      "source": [
        "![image.png](data:image/png;base64,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)"
      ],
      "metadata": {
        "id": "6HsRXxMPxWVo"
      }
    },
    {
      "cell_type": "code",
      "execution_count": 75,
      "metadata": {
        "id": "EpD3vRQbDPAq"
      },
      "outputs": [],
      "source": [
        "import math\n",
        "\n",
        "SD_ROBPCA = [0 for i in range(T.shape[0])]\n",
        "for i in range(T.shape[0]):\n",
        "  temp = 0\n",
        "  for j in range(T.shape[1]):\n",
        "    temp += (math.pow(T[i][j], 2)/l2[j])\n",
        "  SD_ROBPCA[i] = math.sqrt(temp)"
      ]
    },
    {
      "cell_type": "markdown",
      "source": [
        "![image.png](data:image/png;base64,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)"
      ],
      "metadata": {
        "id": "-b86cM58ydhP"
      }
    },
    {
      "cell_type": "code",
      "execution_count": 76,
      "metadata": {
        "id": "3eCkNrZpDO6K"
      },
      "outputs": [],
      "source": [
        "OD_ROBPCA = [0 for i in range(T.shape[0])]\n",
        "mu_hat = np.ones((n,1))@mu1.T\n",
        "for i in range(n):\n",
        "  OD_ROBPCA[i] = np.linalg.norm((Z[i].T - mu_hat[i].T) - P_k0@(T[i].T))"
      ]
    },
    {
      "cell_type": "code",
      "execution_count": 77,
      "metadata": {
        "colab": {
          "base_uri": "https://localhost:8080/",
          "height": 513
        },
        "id": "fsjTF94XfsP0",
        "outputId": "18dfd456-fc76-400c-beb2-aa8acd26e344"
      },
      "outputs": [
        {
          "output_type": "display_data",
          "data": {
            "text/plain": [
              "<Figure size 576x576 with 1 Axes>"
            ],
            "image/png": "[encoded data removed]"
          },
          "metadata": {
            "needs_background": "light"
          }
        }
      ],
      "source": [
        "import matplotlib.pyplot as plt\n",
        "from scipy.stats import chi2\n",
        "\n",
        "# plotting a line plot after changing it's width and height\n",
        "f = plt.figure()\n",
        "f.set_figwidth(8)\n",
        "f.set_figheight(8)\n",
        "\n",
        "# calculating cutoff values\n",
        "cutoff_x = math.sqrt(chi2.isf(df=k0, q=0.025))\n",
        "plt.axvline(x = cutoff_x, color = 'r', label = 'axvline - full height')\n",
        "\n",
        "OD = np.array(OD_ROBPCA).T\n",
        "OD = OD.reshape(-1,1)\n",
        "cov = MinCovDet(random_state=42).fit(OD**(2/3))\n",
        "# print(cov.location_, cov.covariance_[0][0])\n",
        "cutoff_y = math.pow(cov.location_[0] + math.sqrt(cov.covariance_[0][0]) * 1.96, 3/2)\n",
        "plt.axhline(y = cutoff_y, color = 'r', label = 'axhline - full width')\n",
        "\n",
        "\n",
        "plt.scatter(SD_ROBPCA, OD_ROBPCA)\n",
        "for i in range(n):\n",
        "  if SD_ROBPCA[i] > cutoff_x or OD_ROBPCA[i] > cutoff_y:\n",
        "    plt.text(SD_ROBPCA[i]+0.05, OD_ROBPCA[i]+0.05, str(i+1))\n",
        "\n",
        "# naming the x and y axis\n",
        "plt.xlabel(\"Score distance (\"+str(k0)+\" PC)\")\n",
        "plt.ylabel('Orthogonal distance')\n",
        "# plt.xlim(xmin=0, xmax=100)\n",
        "# plt.ylim(ymin=0, ymax=2.5)\n",
        "plt.title('ROBPCA Diagnostic Plot')\n",
        "plt.show()"
      ]
    },
    {
      "cell_type": "markdown",
      "metadata": {
        "id": "lVNhloeCyNhQ"
      },
      "source": [
        "## Classical PCA"
      ]
    },
    {
      "cell_type": "code",
      "execution_count": 78,
      "metadata": {
        "id": "-uQafynzyR5R"
      },
      "outputs": [],
      "source": [
        "X_ms = X_np - np.ones((n,1))@mu0.T"
      ]
    },
    {
      "cell_type": "markdown",
      "metadata": {
        "id": "LaNISESsyjEh"
      },
      "source": [
        "### Variance-Covariance Matrix\n",
        " \n",
        "In order to identify the correlations between the features of the dataset, we compute the covariance matrix of the mean subtracted data."
      ]
    },
    {
      "cell_type": "code",
      "execution_count": 79,
      "metadata": {
        "id": "I7IBzzzXyQaJ"
      },
      "outputs": [],
      "source": [
        "# find the variance-covariance matrix of the mean subtracted data.\n",
        "def varianceCovariance(data): \n",
        "    dim = len(data)\n",
        "    return 1/(dim-1) * np.dot(np.transpose(data), data)\n",
        "\n",
        "cov_matrix = varianceCovariance(X_ms)"
      ]
    },
    {
      "cell_type": "markdown",
      "metadata": {
        "id": "QdYL5LiuycLX"
      },
      "source": [
        "### Eigenvalue Decomposition\n",
        "Principal components are new variables that are constructed as linear combinations or mixtures of the initial variables. These combinations are done in such a way that the new variables (i.e., principal components) are uncorrelated. As the next step, we have to find the eigenvalue decomposition of variance-covariance matrix obtained above."
      ]
    },
    {
      "cell_type": "code",
      "execution_count": 80,
      "metadata": {
        "id": "Iq7pctmfyaJJ"
      },
      "outputs": [],
      "source": [
        "#getting the eigenvalues and eigenvector V of the covariance matrix obtained above\n",
        "eigenvalues, V = np.linalg.eigh(cov_matrix, UPLO='U')\n",
        "# getting V inverse\n",
        "V_inv = np.linalg.inv(V)\n",
        "# getting eigenvalues matrix\n",
        "Λ = np.diag(eigenvalues)"
      ]
    },
    {
      "cell_type": "markdown",
      "metadata": {
        "id": "ib4R-0XlyoWC"
      },
      "source": [
        "### Feature Vector\n",
        "We saw above that the eigenvectors are obtained in the ascending order (i.e., the eigenvector corresponding to minimum eigenvalue is the first column, followed by second and so on). "
      ]
    },
    {
      "cell_type": "code",
      "execution_count": 81,
      "metadata": {
        "colab": {
          "base_uri": "https://localhost:8080/"
        },
        "id": "MVPcC4vAyqpx",
        "outputId": "c9691b54-0983-4029-ea68-a700f087d606"
      },
      "outputs": [
        {
          "output_type": "execute_result",
          "data": {
            "text/plain": [
              "array([-1.71985673e-17, -8.67190872e-18, -6.74003540e-18, -6.36379648e-18,\n",
              "       -5.88632102e-18, -5.12386679e-18, -4.39105259e-18, -4.26238462e-18,\n",
              "       -4.03295004e-18, -3.83650206e-18, -3.55615892e-18, -3.51774461e-18,\n",
              "       -3.23622829e-18, -3.20915645e-18, -2.79689873e-18, -2.51976070e-18,\n",
              "       -2.30109583e-18, -2.18867835e-18, -1.94531527e-18, -1.93167511e-18,\n",
              "       -1.74135128e-18, -1.53387513e-18, -1.32033009e-18, -1.19491616e-18,\n",
              "       -1.13676452e-18, -1.07085112e-18, -1.02873812e-18, -7.44554020e-19,\n",
              "       -7.40009055e-19, -6.93429495e-19, -6.81787204e-19, -5.09094638e-19,\n",
              "       -4.73673325e-19, -3.92674914e-19, -3.64964575e-19, -3.60795668e-19,\n",
              "       -3.38524964e-19, -2.91004413e-19, -2.60492784e-19, -2.30596404e-19,\n",
              "       -2.20563682e-19, -2.08411864e-19, -1.71279881e-19, -1.67520531e-19,\n",
              "       -1.48322867e-19, -1.44334317e-19, -1.22148093e-19, -1.20649357e-19,\n",
              "       -1.18510774e-19, -1.08471966e-19, -9.16331772e-20, -9.13212661e-20,\n",
              "       -8.84897705e-20, -8.34245468e-20, -7.97833022e-20, -7.10894887e-20,\n",
              "       -6.20133497e-20, -5.76839452e-20, -4.80182160e-20, -4.33252485e-20,\n",
              "       -4.11542874e-20, -3.42570455e-20, -3.08128260e-20, -2.94310555e-20,\n",
              "       -2.93669792e-20, -2.15937557e-20, -2.12575801e-20, -1.93148826e-20,\n",
              "       -1.76611896e-20, -1.71260367e-20, -1.68916506e-20, -1.38067116e-20,\n",
              "       -1.21860259e-20, -1.19263999e-20, -1.08120193e-20, -9.52496352e-21,\n",
              "       -8.09843754e-21, -7.90907565e-21, -7.69723675e-21, -5.22814987e-21,\n",
              "       -4.74406189e-21, -4.16487289e-21, -3.81575371e-21, -3.15224650e-21,\n",
              "       -2.94206790e-21, -2.82462816e-21, -2.49670645e-21, -1.98099856e-21,\n",
              "       -1.29237954e-21, -1.20748252e-21, -1.07949919e-21, -1.03898465e-21,\n",
              "       -7.85305262e-22, -7.33534816e-22, -7.01140956e-22, -6.59638944e-22,\n",
              "       -2.24404526e-22, -1.84587051e-22,  4.82987594e-23,  6.76862089e-23,\n",
              "        4.22158611e-22,  5.92153173e-22,  6.93171285e-22,  1.27085056e-21,\n",
              "        1.36399037e-21,  1.43544550e-21,  1.49621260e-21,  1.80552823e-21,\n",
              "        2.05121466e-21,  2.36125973e-21,  2.84235484e-21,  2.84775869e-21,\n",
              "        2.87807922e-21,  3.73318490e-21,  4.16734213e-21,  5.61139881e-21,\n",
              "        5.65091332e-21,  6.72461187e-21,  8.14289501e-21,  1.00208904e-20,\n",
              "        1.01450384e-20,  1.10268913e-20,  1.16626994e-20,  1.55655318e-20,\n",
              "        2.15804417e-20,  2.42031813e-20,  2.45428991e-20,  2.53283199e-20,\n",
              "        2.73273797e-20,  2.89339163e-20,  3.20708647e-20,  3.28924255e-20,\n",
              "        3.32797035e-20,  3.33020800e-20,  3.65927560e-20,  4.63136349e-20,\n",
              "        5.07381002e-20,  5.11840738e-20,  5.99770726e-20,  6.01853285e-20,\n",
              "        6.48408999e-20,  8.52279943e-20,  9.64118061e-20,  1.09134541e-19,\n",
              "        1.17224570e-19,  1.21055625e-19,  1.49439765e-19,  1.57355142e-19,\n",
              "        1.78708210e-19,  1.86845154e-19,  2.00740018e-19,  2.03740413e-19,\n",
              "        2.26946182e-19,  2.38186257e-19,  3.14599023e-19,  3.40392840e-19,\n",
              "        3.43409794e-19,  3.83263142e-19,  4.24861022e-19,  4.78081940e-19,\n",
              "        5.68298729e-19,  6.53187408e-19,  7.66642223e-19,  8.29255493e-19,\n",
              "        9.24531262e-19,  9.71020682e-19,  1.04894189e-18,  1.21655332e-18,\n",
              "        1.46060217e-18,  1.47266416e-18,  1.86298438e-18,  1.88305760e-18,\n",
              "        2.35921917e-18,  2.59533310e-18,  2.63479765e-18,  2.85286376e-18,\n",
              "        2.96564746e-18,  2.97313610e-18,  3.34771005e-18,  3.76450758e-18,\n",
              "        4.18510608e-18,  4.49468250e-18,  4.67743488e-18,  4.96210306e-18,\n",
              "        5.36511340e-18,  6.02252162e-18,  2.27422916e-17,  2.37520816e-17,\n",
              "        6.34257434e-10,  8.75087859e-10,  9.80393608e-10,  1.69307619e-09,\n",
              "        1.81503271e-09,  2.39410989e-09,  3.23288798e-09,  4.93773200e-09,\n",
              "        6.47388167e-09,  7.36498991e-09,  9.13844100e-09,  1.29862274e-08,\n",
              "        1.54568594e-08,  2.23437279e-08,  2.52662058e-08,  2.87794938e-08,\n",
              "        3.53062469e-08,  4.89427461e-08,  7.83374692e-08,  8.92679396e-08,\n",
              "        1.64870820e-07,  2.45544356e-07,  3.69631508e-07,  6.47673753e-07,\n",
              "        9.10083585e-07,  1.31396180e-06,  2.53163027e-06,  3.16558141e-06,\n",
              "        4.01558724e-06,  7.45815420e-06,  1.71252889e-05,  3.72713952e-05,\n",
              "        4.89322741e-05,  1.08792892e-04,  7.44241943e-04,  1.36196882e-03,\n",
              "        8.74600560e-03,  1.32644366e-01])"
            ]
          },
          "metadata": {},
          "execution_count": 81
        }
      ],
      "source": [
        "eigenvalues"
      ]
    },
    {
      "cell_type": "markdown",
      "metadata": {
        "id": "4BI0rq-6ytkL"
      },
      "source": [
        "Computing the eigenvectors and ordering them by their eigenvalues in _descending_ order allow us to find the principal components in order of significance. Thus we will first flip the obtained eigenvectors matrix along the columns, and then we choose the first 2 components (eigenvectors) of maximum significance to form the feature vector. This makes PCA a dimensionality reduction technique as the final data set will have only 4 dimensions."
      ]
    },
    {
      "cell_type": "code",
      "execution_count": 82,
      "metadata": {
        "id": "ScgQvUvTytC5"
      },
      "outputs": [],
      "source": [
        "V_reverse = np.flip(V, axis=1)\n",
        "eigen_reverse = np.flip(eigenvalues)"
      ]
    },
    {
      "cell_type": "code",
      "execution_count": 83,
      "metadata": {
        "colab": {
          "base_uri": "https://localhost:8080/"
        },
        "id": "TkqgzRzsywcG",
        "outputId": "97dfc90c-c28d-45a4-a5a6-6d7e75e1ec1e"
      },
      "outputs": [
        {
          "output_type": "execute_result",
          "data": {
            "text/plain": [
              "array([[-2.71056749e-03,  1.13203983e-03],\n",
              "       [-2.71771357e-03,  6.79282535e-04],\n",
              "       [-2.73212558e-03,  1.92784197e-04],\n",
              "       [-2.75579906e-03, -3.37016662e-04],\n",
              "       [-2.78820116e-03, -9.30944388e-04],\n",
              "       [-2.82852925e-03, -1.63390527e-03],\n",
              "       [-2.87693441e-03, -2.52039171e-03],\n",
              "       [-2.93642992e-03, -3.68858590e-03],\n",
              "       [-3.01241848e-03, -5.24586009e-03],\n",
              "       [-3.10920546e-03, -7.36860316e-03],\n",
              "       [-3.22883008e-03, -1.02191869e-02],\n",
              "       [-3.36853069e-03, -1.39333933e-02],\n",
              "       [-3.52290781e-03, -1.86801711e-02],\n",
              "       [-3.68677431e-03, -2.46797580e-02],\n",
              "       [-3.86178558e-03, -3.22035211e-02],\n",
              "       [-4.06180324e-03, -4.15361585e-02],\n",
              "       [-4.30762990e-03, -5.29269260e-02],\n",
              "       [-4.62576967e-03, -6.64570177e-02],\n",
              "       [-5.04303520e-03, -8.17301018e-02],\n",
              "       [-5.57718180e-03, -9.77978345e-02],\n",
              "       [-6.22984152e-03, -1.13182756e-01],\n",
              "       [-6.98940572e-03, -1.26055168e-01],\n",
              "       [-7.82924349e-03, -1.34625693e-01],\n",
              "       [-8.69613576e-03, -1.37452120e-01],\n",
              "       [-9.50392609e-03, -1.33877703e-01],\n",
              "       [-1.01336580e-02, -1.24127311e-01],\n",
              "       [-1.04528107e-02, -1.09246936e-01],\n",
              "       [-1.03491865e-02, -9.08652670e-02],\n",
              "       [-9.76765877e-03, -7.08682089e-02],\n",
              "       [-8.74221817e-03, -5.11256490e-02],\n",
              "       [-7.39217455e-03, -3.31159882e-02],\n",
              "       [-5.88830514e-03, -1.77344085e-02],\n",
              "       [-4.39885581e-03, -5.27989474e-03],\n",
              "       [-3.04359758e-03,  4.45125191e-03],\n",
              "       [-1.87152058e-03,  1.20267573e-02],\n",
              "       [-8.70784105e-04,  1.81510237e-02],\n",
              "       [ 2.27443265e-05,  2.34096726e-02],\n",
              "       [ 8.83819363e-04,  2.82640695e-02],\n",
              "       [ 1.76437890e-03,  3.31950295e-02],\n",
              "       [ 2.65328021e-03,  3.88649167e-02],\n",
              "       [ 3.44814975e-03,  4.62177565e-02],\n",
              "       [ 3.92511157e-03,  5.62284377e-02],\n",
              "       [ 3.78362210e-03,  6.94770746e-02],\n",
              "       [ 2.75879491e-03,  8.56130934e-02],\n",
              "       [ 7.64714370e-04,  1.03187798e-01],\n",
              "       [-2.00826601e-03,  1.20077403e-01],\n",
              "       [-5.07768443e-03,  1.34326738e-01],\n",
              "       [-7.78777800e-03,  1.45025810e-01],\n",
              "       [-9.52823929e-03,  1.52726170e-01],\n",
              "       [-9.95739519e-03,  1.59050020e-01],\n",
              "       [-9.09091673e-03,  1.65872077e-01],\n",
              "       [-7.24343827e-03,  1.74400942e-01],\n",
              "       [-4.89427913e-03,  1.84752698e-01],\n",
              "       [-2.49929406e-03,  1.95982646e-01],\n",
              "       [-3.66063740e-04,  2.06579968e-01],\n",
              "       [ 1.37591296e-03,  2.14982535e-01],\n",
              "       [ 2.72016654e-03,  2.19967036e-01],\n",
              "       [ 3.72511569e-03,  2.20736737e-01],\n",
              "       [ 4.46216223e-03,  2.16992055e-01],\n",
              "       [ 4.99140035e-03,  2.08917173e-01],\n",
              "       [ 5.36593518e-03,  1.97126820e-01],\n",
              "       [ 5.63682229e-03,  1.82522906e-01],\n",
              "       [ 5.85341175e-03,  1.66194339e-01],\n",
              "       [ 6.04095078e-03,  1.49213671e-01],\n",
              "       [ 6.20445880e-03,  1.32516607e-01],\n",
              "       [ 6.33819937e-03,  1.16773783e-01],\n",
              "       [ 6.40507755e-03,  1.02472498e-01],\n",
              "       [ 6.37236945e-03,  8.99203474e-02],\n",
              "       [ 6.21894171e-03,  7.92473237e-02],\n",
              "       [ 5.94576897e-03,  7.04486439e-02],\n",
              "       [ 5.57372568e-03,  6.33940634e-02],\n",
              "       [ 5.12525395e-03,  5.78184847e-02],\n",
              "       [ 4.64118530e-03,  5.33749098e-02],\n",
              "       [ 4.16448203e-03,  4.96711879e-02],\n",
              "       [ 3.72915949e-03,  4.63993519e-02],\n",
              "       [ 3.36645607e-03,  4.33625294e-02],\n",
              "       [ 3.09380031e-03,  4.04880709e-02],\n",
              "       [ 2.91668979e-03,  3.77982717e-02],\n",
              "       [ 2.82020483e-03,  3.53452270e-02],\n",
              "       [ 2.77500760e-03,  3.31626364e-02],\n",
              "       [ 2.75401406e-03,  3.12391452e-02],\n",
              "       [ 2.73637509e-03,  2.95097742e-02],\n",
              "       [ 2.71208772e-03,  2.78978532e-02],\n",
              "       [ 2.67828408e-03,  2.63371901e-02],\n",
              "       [ 2.63906513e-03,  2.47837900e-02],\n",
              "       [ 2.59904912e-03,  2.32242422e-02],\n",
              "       [ 2.55680282e-03,  2.16736941e-02],\n",
              "       [ 2.50831464e-03,  2.01707865e-02],\n",
              "       [ 2.44559850e-03,  1.87461705e-02],\n",
              "       [ 2.36337210e-03,  1.74190105e-02],\n",
              "       [ 2.25662190e-03,  1.61961574e-02],\n",
              "       [ 2.12468459e-03,  1.50726637e-02],\n",
              "       [ 1.97144727e-03,  1.40230907e-02],\n",
              "       [ 1.80448226e-03,  1.30110360e-02],\n",
              "       [ 1.63162500e-03,  1.20086373e-02],\n",
              "       [ 1.46061120e-03,  1.10001062e-02],\n",
              "       [ 1.29856745e-03,  9.99229876e-03],\n",
              "       [ 1.15208472e-03,  9.00610577e-03],\n",
              "       [ 1.02601653e-03,  8.07919637e-03],\n",
              "       [ 9.23254975e-04,  7.24659892e-03],\n",
              "       [ 8.46786802e-04,  6.52168842e-03],\n",
              "       [ 7.97331076e-04,  5.90224572e-03],\n",
              "       [ 7.72771922e-04,  5.37291904e-03],\n",
              "       [ 7.71090451e-04,  4.91139880e-03],\n",
              "       [ 7.91374219e-04,  4.48721659e-03],\n",
              "       [ 8.33045182e-04,  4.06628085e-03],\n",
              "       [ 8.95154741e-04,  3.62855452e-03],\n",
              "       [ 9.76475550e-04,  3.15620041e-03],\n",
              "       [ 1.07631607e-03,  2.64239930e-03],\n",
              "       [ 1.19366003e-03,  2.10107658e-03],\n",
              "       [ 1.32829357e-03,  1.55843696e-03],\n",
              "       [ 1.48216772e-03,  1.04242372e-03],\n",
              "       [ 1.65726229e-03,  5.61644573e-04],\n",
              "       [ 1.85802427e-03,  1.00982405e-04],\n",
              "       [ 2.08615228e-03, -3.86791489e-04],\n",
              "       [ 2.34469318e-03, -9.76351608e-04],\n",
              "       [ 2.63835972e-03, -1.75220973e-03],\n",
              "       [ 2.97891053e-03, -2.77274167e-03],\n",
              "       [ 3.38110503e-03, -4.05715488e-03],\n",
              "       [ 3.86356883e-03, -5.58955119e-03],\n",
              "       [ 4.45639981e-03, -7.33475353e-03],\n",
              "       [ 5.18068474e-03, -9.23547752e-03],\n",
              "       [ 6.06931011e-03, -1.12455444e-02],\n",
              "       [ 7.13965553e-03, -1.33115284e-02],\n",
              "       [ 8.37845455e-03, -1.53703034e-02],\n",
              "       [ 9.73013388e-03, -1.73267894e-02],\n",
              "       [ 1.10898261e-02, -1.91034336e-02],\n",
              "       [ 1.23188285e-02, -2.06539775e-02],\n",
              "       [ 1.32816991e-02, -2.19369645e-02],\n",
              "       [ 1.38812932e-02, -2.29079076e-02],\n",
              "       [ 1.41324442e-02, -2.34832772e-02],\n",
              "       [ 1.41280948e-02, -2.34376362e-02],\n",
              "       [ 1.40450962e-02, -2.24465557e-02],\n",
              "       [ 1.40643369e-02, -2.01723651e-02],\n",
              "       [ 1.42892338e-02, -1.64541222e-02],\n",
              "       [ 1.47333575e-02, -1.13805617e-02],\n",
              "       [ 1.53005815e-02, -5.28720476e-03],\n",
              "       [ 1.58535948e-02,  1.31812994e-03],\n",
              "       [ 1.62776568e-02,  8.02329246e-03],\n",
              "       [ 1.65714538e-02,  1.46914713e-02],\n",
              "       [ 1.68613701e-02,  2.14761583e-02],\n",
              "       [ 1.73613798e-02,  2.86794888e-02],\n",
              "       [ 1.83208027e-02,  3.63996169e-02],\n",
              "       [ 1.99888582e-02,  4.43226660e-02],\n",
              "       [ 2.25971421e-02,  5.16194424e-02],\n",
              "       [ 2.64874757e-02,  5.71056151e-02],\n",
              "       [ 3.21645386e-02,  5.96511159e-02],\n",
              "       [ 4.03003441e-02,  5.85911508e-02],\n",
              "       [ 5.16503826e-02,  5.40675102e-02],\n",
              "       [ 6.67277674e-02,  4.70715154e-02],\n",
              "       [ 8.53502559e-02,  3.91969383e-02],\n",
              "       [ 1.06221600e-01,  3.22695400e-02],\n",
              "       [ 1.26952764e-01,  2.78153873e-02],\n",
              "       [ 1.44638236e-01,  2.66313363e-02],\n",
              "       [ 1.56619166e-01,  2.85781328e-02],\n",
              "       [ 1.61422986e-01,  3.26703908e-02],\n",
              "       [ 1.59346148e-01,  3.74556839e-02],\n",
              "       [ 1.52274797e-01,  4.15426149e-02],\n",
              "       [ 1.42859610e-01,  4.40521706e-02],\n",
              "       [ 1.33483978e-01,  4.48439765e-02],\n",
              "       [ 1.25550712e-01,  4.43674845e-02],\n",
              "       [ 1.19378050e-01,  4.33150609e-02],\n",
              "       [ 1.14423763e-01,  4.22187979e-02],\n",
              "       [ 1.09892936e-01,  4.12371996e-02],\n",
              "       [ 1.05228903e-01,  4.01722104e-02],\n",
              "       [ 1.00297013e-01,  3.86745028e-02],\n",
              "       [ 9.53081285e-02,  3.65112014e-02],\n",
              "       [ 9.06107041e-02,  3.37382472e-02],\n",
              "       [ 8.65243991e-02,  3.06682764e-02],\n",
              "       [ 8.32604412e-02,  2.77392857e-02],\n",
              "       [ 8.08887916e-02,  2.53100182e-02],\n",
              "       [ 7.93901550e-02,  2.34876738e-02],\n",
              "       [ 7.86909435e-02,  2.20966954e-02],\n",
              "       [ 7.87101474e-02,  2.07696076e-02],\n",
              "       [ 7.93680463e-02,  1.91297923e-02],\n",
              "       [ 8.05718287e-02,  1.69405417e-02],\n",
              "       [ 8.22084455e-02,  1.41699687e-02],\n",
              "       [ 8.41370300e-02,  1.09783083e-02],\n",
              "       [ 8.62142255e-02,  7.61117981e-03],\n",
              "       [ 8.83028890e-02,  4.27197337e-03],\n",
              "       [ 9.02945099e-02,  1.08320196e-03],\n",
              "       [ 9.21134129e-02, -1.93915780e-03],\n",
              "       [ 9.37126337e-02, -4.82135693e-03],\n",
              "       [ 9.50873847e-02, -7.62922628e-03],\n",
              "       [ 9.62621867e-02, -1.04308484e-02],\n",
              "       [ 9.72797397e-02, -1.32697043e-02],\n",
              "       [ 9.82057108e-02, -1.61533512e-02],\n",
              "       [ 9.91120684e-02, -1.90449736e-02],\n",
              "       [ 1.00060080e-01, -2.18227672e-02],\n",
              "       [ 1.01082905e-01, -2.43018503e-02],\n",
              "       [ 1.02185709e-01, -2.62648305e-02],\n",
              "       [ 1.03346568e-01, -2.75184618e-02],\n",
              "       [ 1.04522766e-01, -2.79726139e-02],\n",
              "       [ 1.05675506e-01, -2.76561000e-02],\n",
              "       [ 1.06785530e-01, -2.67467708e-02],\n",
              "       [ 1.07852735e-01, -2.55050326e-02],\n",
              "       [ 1.08897053e-01, -2.42131106e-02],\n",
              "       [ 1.09939445e-01, -2.31231373e-02],\n",
              "       [ 1.10998304e-01, -2.23865149e-02],\n",
              "       [ 1.12074613e-01, -2.20333853e-02],\n",
              "       [ 1.13159165e-01, -2.19980099e-02],\n",
              "       [ 1.14239327e-01, -2.21620468e-02],\n",
              "       [ 1.15304871e-01, -2.23929426e-02],\n",
              "       [ 1.16356502e-01, -2.25910790e-02],\n",
              "       [ 1.17396838e-01, -2.27273250e-02],\n",
              "       [ 1.18431442e-01, -2.28346715e-02],\n",
              "       [ 1.19459387e-01, -2.29677204e-02],\n",
              "       [ 1.20477583e-01, -2.31783125e-02],\n",
              "       [ 1.21475628e-01, -2.34974218e-02],\n",
              "       [ 1.22443309e-01, -2.39233060e-02],\n",
              "       [ 1.23378844e-01, -2.44335013e-02],\n",
              "       [ 1.24286173e-01, -2.50168210e-02],\n",
              "       [ 1.25171816e-01, -2.56797870e-02],\n",
              "       [ 1.26046093e-01, -2.64457592e-02],\n",
              "       [ 1.26914860e-01, -2.73254559e-02],\n",
              "       [ 1.27775989e-01, -2.83255525e-02],\n",
              "       [ 1.28612752e-01, -2.94323456e-02],\n",
              "       [ 1.29404672e-01, -3.06223170e-02],\n",
              "       [ 1.30128162e-01, -3.18688596e-02],\n",
              "       [ 1.30764320e-01, -3.31568046e-02],\n",
              "       [ 1.31302257e-01, -3.44759526e-02],\n",
              "       [ 1.31747633e-01, -3.58162634e-02],\n",
              "       [ 1.32123850e-01, -3.71605095e-02],\n",
              "       [ 1.32460918e-01, -3.84825215e-02],\n",
              "       [ 1.32792929e-01, -3.97517022e-02],\n",
              "       [ 1.33157022e-01, -4.09469369e-02]])"
            ]
          },
          "metadata": {},
          "execution_count": 83
        }
      ],
      "source": [
        "feature_vector = V_reverse[:,:k0]\n",
        "feature_vector"
      ]
    },
    {
      "cell_type": "markdown",
      "metadata": {
        "id": "XGFfDvI8yzwq"
      },
      "source": [
        "#### Principal Components\n",
        "We then use the feature vector formed using the eigenvectors of the covariance matrix, to reorient the data from the original axes to the ones represented by the principal components. This can be done by multiplying the transpose of the mean subtracted data set by the transpose of the feature vector. This gives us the PCA data set, with data items in columns, and dimensions along rows. Its transpose will give us the final new dataset."
      ]
    },
    {
      "cell_type": "code",
      "execution_count": 84,
      "metadata": {
        "colab": {
          "base_uri": "https://localhost:8080/"
        },
        "id": "wpw-8bp7y13O",
        "outputId": "dbf7bbe1-794f-40c1-e878-3e96d154e0ce"
      },
      "outputs": [
        {
          "output_type": "execute_result",
          "data": {
            "text/plain": [
              "array([[-1.44400653e-01,  3.42504396e-02],\n",
              "       [-1.27913299e-01,  6.40196272e-02],\n",
              "       [-1.13502785e-01,  2.66465189e-02],\n",
              "       [-9.55849303e-02,  1.17284728e-01],\n",
              "       [-1.83858017e-01, -1.05503903e-01],\n",
              "       [-2.12556139e-01, -1.47643943e-01],\n",
              "       [-1.71294686e-01,  7.24556207e-03],\n",
              "       [-1.21578406e-01,  1.27991087e-01],\n",
              "       [-1.00925500e-01,  1.46467857e-01],\n",
              "       [-1.69842332e-01, -8.17871583e-02],\n",
              "       [-1.47843716e-01,  2.47556188e-02],\n",
              "       [-1.99574676e-01, -1.17199854e-01],\n",
              "       [-1.61565990e-01,  4.39365765e-02],\n",
              "       [-2.03977444e-01, -1.28585234e-01],\n",
              "       [-2.03793352e-01, -1.26352109e-01],\n",
              "       [-1.18002517e-01,  1.14697717e-01],\n",
              "       [-9.61025039e-02,  1.31537582e-01],\n",
              "       [-1.18439041e-01,  1.09480675e-02],\n",
              "       [-1.12694276e-01,  1.01710784e-01],\n",
              "       [-1.34316631e-01, -4.19434765e-02],\n",
              "       [-1.28521738e-01,  5.23473964e-02],\n",
              "       [-1.54010289e-01, -6.56880785e-02],\n",
              "       [-2.32529212e-01, -1.87654838e-01],\n",
              "       [-1.29662257e-01,  1.07055403e-01],\n",
              "       [ 5.81904722e-01,  6.99406871e-02],\n",
              "       [ 1.22536611e+00, -7.96154017e-02],\n",
              "       [-1.09153442e-01,  7.13300541e-02],\n",
              "       [-1.09346299e-01,  6.65604372e-02],\n",
              "       [-1.53411289e-01, -6.13547704e-02],\n",
              "       [-1.76364000e-01, -8.83147214e-02],\n",
              "       [-1.69452404e-01, -7.46930323e-04],\n",
              "       [-1.30058450e-01,  2.82309224e-03],\n",
              "       [-1.48401549e-01,  6.50872189e-03],\n",
              "       [-2.34388247e-01, -1.80853670e-01],\n",
              "       [-9.07836783e-02,  1.48693765e-01],\n",
              "       [ 7.19876335e-01, -3.98439122e-02],\n",
              "       [ 7.19854251e-01,  1.65127815e-02],\n",
              "       [ 9.01475324e-01, -2.58313825e-02],\n",
              "       [ 7.55373002e-01, -1.43451219e-02]])"
            ]
          },
          "metadata": {},
          "execution_count": 84
        }
      ],
      "source": [
        "X_PCA = np.transpose(np.dot(np.transpose(feature_vector), np.transpose(X_ms)))\n",
        "X_PCA"
      ]
    },
    {
      "cell_type": "code",
      "source": [
        "import matplotlib.pyplot as plt\n",
        "from matplotlib.colors import ListedColormap\n",
        "\n",
        "# Plot the dataset\n",
        "plt.figure(figsize=(8,8))\n",
        "pca_plot = plt.scatter(X_PCA[:,0], X_PCA[:,1])\n",
        "plt.xticks(fontsize=18)\n",
        "plt.yticks(fontsize=18)\n",
        "plt.xlabel('$f1$',fontsize=18)\n",
        "plt.ylabel('$f2$',fontsize=18)\n",
        "plt.suptitle('Dataset after CPCA',fontsize=20)\n",
        "plt.title('Plotting the octane dataset after CPCA transform',fontsize=12)\n",
        "plt.show( )"
      ],
      "metadata": {
        "colab": {
          "base_uri": "https://localhost:8080/",
          "height": 570
        },
        "id": "rIC1P5vrHc13",
        "outputId": "66812cc6-b80e-4aea-e1f7-76bca6683949"
      },
      "execution_count": 85,
      "outputs": [
        {
          "output_type": "display_data",
          "data": {
            "text/plain": [
              "<Figure size 576x576 with 1 Axes>"
            ],
            "image/png": "[encoded data removed]"
          },
          "metadata": {
            "needs_background": "light"
          }
        }
      ]
    },
    {
      "cell_type": "code",
      "source": [
        "T = X_ms@feature_vector"
      ],
      "metadata": {
        "id": "yzkys44yiK_9"
      },
      "execution_count": 86,
      "outputs": []
    },
    {
      "cell_type": "markdown",
      "metadata": {
        "id": "LnqY07KlzE7D"
      },
      "source": [
        "### Diagnostic Plots"
      ]
    },
    {
      "cell_type": "code",
      "execution_count": 87,
      "metadata": {
        "id": "sNpmM5DNzHmg"
      },
      "outputs": [],
      "source": [
        "import math\n",
        "\n",
        "SD_CPCA = [0 for i in range(T.shape[0])]\n",
        "\n",
        "for i in range(T.shape[0]):\n",
        "  temp = 0\n",
        "  for j in range(T.shape[1]):\n",
        "    temp += (T[i][j] ** 2)/eigen_reverse[j]\n",
        "  SD_CPCA[i] = math.sqrt(temp)"
      ]
    },
    {
      "cell_type": "code",
      "execution_count": 88,
      "metadata": {
        "id": "iCTrFPKt0SLG"
      },
      "outputs": [],
      "source": [
        "OD_CPCA = [0 for i in range(T.shape[0])]\n",
        "mu_hat = np.ones((n,1))@mu0.T\n",
        "for i in range(n):\n",
        "  OD_CPCA[i] = np.linalg.norm(X_np[i].T - mu_hat[i].T - feature_vector@T[i])"
      ]
    },
    {
      "cell_type": "code",
      "execution_count": 89,
      "metadata": {
        "colab": {
          "base_uri": "https://localhost:8080/",
          "height": 513
        },
        "id": "Hu2eAwAn0c2D",
        "outputId": "e1319915-1a81-486b-c781-2112cc9f8368"
      },
      "outputs": [
        {
          "output_type": "display_data",
          "data": {
            "text/plain": [
              "<Figure size 576x576 with 1 Axes>"
            ],
            "image/png": "[encoded data removed]"
          },
          "metadata": {
            "needs_background": "light"
          }
        }
      ],
      "source": [
        "import matplotlib.pyplot as plt\n",
        "from scipy.stats import chi2\n",
        "\n",
        "# plotting a line plot after changing it's width and height\n",
        "f = plt.figure()\n",
        "f.set_figwidth(8)\n",
        "f.set_figheight(8)\n",
        "\n",
        "# calculating cutoff values\n",
        "cutoff_x = math.sqrt(chi2.isf(df=k0, q=0.025))\n",
        "plt.axvline(x = cutoff_x, color = 'r', label = 'axvline - full height')\n",
        "\n",
        "OD = np.array(OD_CPCA).T\n",
        "OD = OD.reshape(-1,1)\n",
        "cov = MinCovDet(random_state=42).fit(OD**(2/3))\n",
        "# print(cov.location_, cov.covariance_[0][0])\n",
        "cutoff_y = math.pow(cov.location_[0] + math.sqrt(cov.covariance_[0][0]) * 1.96, 3/2)\n",
        "plt.axhline(y = cutoff_y, color = 'r', label = 'axhline - full width')\n",
        "\n",
        "\n",
        "plt.scatter(SD_CPCA, OD_CPCA)\n",
        "for i in range(n):\n",
        "  if SD_CPCA[i] > cutoff_x or OD_CPCA[i] > cutoff_y:\n",
        "    plt.text(SD_CPCA[i]+0.002, OD_CPCA[i]+0.002, str(i+1))\n",
        "\n",
        "# naming the x and y axis\n",
        "plt.xlabel(\"Score distance (\"+str(k0)+\" PC)\")\n",
        "plt.ylabel('Orthogonal distance')\n",
        "plt.title('CPCA Diagnostic Plot')\n",
        "plt.xlim(xmin=0, xmax=10)\n",
        "plt.ylim(ymin=0, ymax=1.2)\n",
        "plt.show()"
      ]
    },
    {
      "cell_type": "code",
      "source": [],
      "metadata": {
        "id": "V5AabV-tXSOC"
      },
      "execution_count": 89,
      "outputs": []
    }
  ],
  "metadata": {
    "colab": {
      "provenance": [],
      "collapsed_sections": [
        "Lu3BsLE0PaUC"
      ]
    },
    "kernelspec": {
      "display_name": "Python 3",
      "name": "python3"
    },
    "language_info": {
      "name": "python"
    }
  },
  "nbformat": 4,
  "nbformat_minor": 0
}